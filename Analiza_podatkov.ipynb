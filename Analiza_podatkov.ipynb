{
 "cells": [
  {
   "cell_type": "markdown",
   "metadata": {},
   "source": [
    "# Projektna naloga pri predmetu Programiranje 1\n",
    "_Matej Melanšek_ - 27181069"
   ]
  },
  {
   "cell_type": "code",
   "execution_count": 26,
   "metadata": {},
   "outputs": [
    {
     "data": {
      "text/html": [
       "<style>\n",
       ".output {\n",
       "    flex-direction: row;\n",
       "}\n",
       "</style>"
      ],
      "text/plain": [
       "<IPython.core.display.HTML object>"
      ]
     },
     "execution_count": 26,
     "metadata": {},
     "output_type": "execute_result"
    }
   ],
   "source": [
    "import pandas as pd\n",
    "from IPython.display import display, HTML\n",
    "CSS = \"\"\"\n",
    ".output {\n",
    "    flex-direction: row;\n",
    "}\n",
    "\"\"\"\n",
    "\n",
    "HTML('<style>{}</style>'.format(CSS))"
   ]
  },
  {
   "cell_type": "code",
   "execution_count": 67,
   "metadata": {},
   "outputs": [],
   "source": [
    "igralci = pd.read_csv('podatki.csv')"
   ]
  },
  {
   "cell_type": "markdown",
   "metadata": {},
   "source": [
    "Iz spletne sptrani [Transfermarkt](https://www.transfermarkt.com/ \"https://www.transfermarkt.com/\"), ki je najpopularnejša domena za iskanje podatkov o nogometnih igralcih in njihovih prestopih, sem pobral vse igralce najboljših petih evropskih nogometnih lig (Premier Ligue - GB1, LaLiga - ES1, Bundesliga - L1, Serie A - IT1, Ligue 1 - FR1). Za vsakega izmed igralcev sem zajel: njihovo ime, tržno vrednost (podano v milijonih evrih), starost, višino (v cm), državljanstvo, močnejšo nogo in ligo v kateri igrajo.\n",
    "\n",
    "S temi podatki bom poskušal potrditi ali pa odvreči **hipoteze**:\n",
    "- najdražji igralci so Brazilci\n",
    "- LaLiga (ES1) ima povprečno najnižje igralce\n",
    "- Serie A (IT1) ima povprečno najstarejše igralce\n",
    "- delež nogometašev najboljših petih evropskih lig, ki raje uporabljajo levo nogo, je večji kot delež ljudi, ki raje uporabljajo levo nogo v splošni populaciji\n",
    "- ne obstaja korelacija med igralčevo višino in njegovo tržno vrednostjo\n",
    "- v vsaki ligi je največji delež igralcev državljanov tiste države, ki gosti ligo"
   ]
  },
  {
   "cell_type": "code",
   "execution_count": 68,
   "metadata": {},
   "outputs": [
    {
     "data": {
      "text/html": [
       "<div>\n",
       "<style scoped>\n",
       "    .dataframe tbody tr th:only-of-type {\n",
       "        vertical-align: middle;\n",
       "    }\n",
       "\n",
       "    .dataframe tbody tr th {\n",
       "        vertical-align: top;\n",
       "    }\n",
       "\n",
       "    .dataframe thead th {\n",
       "        text-align: right;\n",
       "    }\n",
       "</style>\n",
       "<table border=\"1\" class=\"dataframe\">\n",
       "  <thead>\n",
       "    <tr style=\"text-align: right;\">\n",
       "      <th></th>\n",
       "      <th>ID</th>\n",
       "      <th>Ime</th>\n",
       "      <th>TrznaVrednost</th>\n",
       "      <th>Starost</th>\n",
       "      <th>Visina</th>\n",
       "      <th>Drzavljanstvo</th>\n",
       "      <th>MocnejsaNoga</th>\n",
       "      <th>Liga</th>\n",
       "    </tr>\n",
       "  </thead>\n",
       "  <tbody>\n",
       "    <tr>\n",
       "      <th>0</th>\n",
       "      <td>2857</td>\n",
       "      <td>Eldin Jakupovic</td>\n",
       "      <td>0.30</td>\n",
       "      <td>36</td>\n",
       "      <td>191.0</td>\n",
       "      <td>Switzerland</td>\n",
       "      <td>right</td>\n",
       "      <td>GB1</td>\n",
       "    </tr>\n",
       "    <tr>\n",
       "      <th>1</th>\n",
       "      <td>3333</td>\n",
       "      <td>James Milner</td>\n",
       "      <td>3.00</td>\n",
       "      <td>35</td>\n",
       "      <td>175.0</td>\n",
       "      <td>England</td>\n",
       "      <td>right</td>\n",
       "      <td>GB1</td>\n",
       "    </tr>\n",
       "    <tr>\n",
       "      <th>2</th>\n",
       "      <td>3455</td>\n",
       "      <td>Zlatan Ibrahimovic</td>\n",
       "      <td>4.00</td>\n",
       "      <td>39</td>\n",
       "      <td>195.0</td>\n",
       "      <td>Sweden</td>\n",
       "      <td>both</td>\n",
       "      <td>IT1</td>\n",
       "    </tr>\n",
       "    <tr>\n",
       "      <th>3</th>\n",
       "      <td>5578</td>\n",
       "      <td>Nicolas Penneteau</td>\n",
       "      <td>0.20</td>\n",
       "      <td>40</td>\n",
       "      <td>185.0</td>\n",
       "      <td>France</td>\n",
       "      <td>left</td>\n",
       "      <td>FR1</td>\n",
       "    </tr>\n",
       "    <tr>\n",
       "      <th>4</th>\n",
       "      <td>6442</td>\n",
       "      <td>Antonio Rosati</td>\n",
       "      <td>0.10</td>\n",
       "      <td>38</td>\n",
       "      <td>195.0</td>\n",
       "      <td>Italy</td>\n",
       "      <td>right</td>\n",
       "      <td>IT1</td>\n",
       "    </tr>\n",
       "    <tr>\n",
       "      <th>...</th>\n",
       "      <td>...</td>\n",
       "      <td>...</td>\n",
       "      <td>...</td>\n",
       "      <td>...</td>\n",
       "      <td>...</td>\n",
       "      <td>...</td>\n",
       "      <td>...</td>\n",
       "      <td>...</td>\n",
       "    </tr>\n",
       "    <tr>\n",
       "      <th>2766</th>\n",
       "      <td>859396</td>\n",
       "      <td>Metinho</td>\n",
       "      <td>5.00</td>\n",
       "      <td>18</td>\n",
       "      <td>178.0</td>\n",
       "      <td>Brazil</td>\n",
       "      <td>right</td>\n",
       "      <td>FR1</td>\n",
       "    </tr>\n",
       "    <tr>\n",
       "      <th>2767</th>\n",
       "      <td>876034</td>\n",
       "      <td>Yanis Guermouche</td>\n",
       "      <td>0.15</td>\n",
       "      <td>20</td>\n",
       "      <td>192.0</td>\n",
       "      <td>France</td>\n",
       "      <td>NaN</td>\n",
       "      <td>FR1</td>\n",
       "    </tr>\n",
       "    <tr>\n",
       "      <th>2768</th>\n",
       "      <td>880169</td>\n",
       "      <td>Nabil Ouennas</td>\n",
       "      <td>0.10</td>\n",
       "      <td>18</td>\n",
       "      <td>195.0</td>\n",
       "      <td>Algeria</td>\n",
       "      <td>NaN</td>\n",
       "      <td>FR1</td>\n",
       "    </tr>\n",
       "    <tr>\n",
       "      <th>2769</th>\n",
       "      <td>880330</td>\n",
       "      <td>Moïse Sahi Dion</td>\n",
       "      <td>0.80</td>\n",
       "      <td>19</td>\n",
       "      <td>175.0</td>\n",
       "      <td>Cote d'Ivoire</td>\n",
       "      <td>left</td>\n",
       "      <td>FR1</td>\n",
       "    </tr>\n",
       "    <tr>\n",
       "      <th>2770</th>\n",
       "      <td>905408</td>\n",
       "      <td>Mamadou Camara</td>\n",
       "      <td>0.15</td>\n",
       "      <td>18</td>\n",
       "      <td>185.0</td>\n",
       "      <td>Senegal</td>\n",
       "      <td>left</td>\n",
       "      <td>FR1</td>\n",
       "    </tr>\n",
       "  </tbody>\n",
       "</table>\n",
       "<p>2771 rows × 8 columns</p>\n",
       "</div>"
      ],
      "text/plain": [
       "          ID                 Ime  TrznaVrednost  Starost  Visina  \\\n",
       "0       2857     Eldin Jakupovic           0.30       36   191.0   \n",
       "1       3333        James Milner           3.00       35   175.0   \n",
       "2       3455  Zlatan Ibrahimovic           4.00       39   195.0   \n",
       "3       5578   Nicolas Penneteau           0.20       40   185.0   \n",
       "4       6442      Antonio Rosati           0.10       38   195.0   \n",
       "...      ...                 ...            ...      ...     ...   \n",
       "2766  859396             Metinho           5.00       18   178.0   \n",
       "2767  876034    Yanis Guermouche           0.15       20   192.0   \n",
       "2768  880169       Nabil Ouennas           0.10       18   195.0   \n",
       "2769  880330     Moïse Sahi Dion           0.80       19   175.0   \n",
       "2770  905408      Mamadou Camara           0.15       18   185.0   \n",
       "\n",
       "      Drzavljanstvo MocnejsaNoga Liga  \n",
       "0       Switzerland        right  GB1  \n",
       "1           England        right  GB1  \n",
       "2            Sweden         both  IT1  \n",
       "3            France         left  FR1  \n",
       "4             Italy        right  IT1  \n",
       "...             ...          ...  ...  \n",
       "2766         Brazil        right  FR1  \n",
       "2767         France          NaN  FR1  \n",
       "2768        Algeria          NaN  FR1  \n",
       "2769  Cote d'Ivoire         left  FR1  \n",
       "2770        Senegal         left  FR1  \n",
       "\n",
       "[2771 rows x 8 columns]"
      ]
     },
     "execution_count": 68,
     "metadata": {},
     "output_type": "execute_result"
    }
   ],
   "source": [
    "igralci"
   ]
  },
  {
   "cell_type": "markdown",
   "metadata": {},
   "source": [
    "Preden poizkušamo podrobno odvreči ali potrditi hipoteze, opravimo bolj splošno analizo podatkov."
   ]
  },
  {
   "cell_type": "markdown",
   "metadata": {},
   "source": [
    "<br/>\n",
    "<br/>"
   ]
  },
  {
   "cell_type": "markdown",
   "metadata": {},
   "source": [
    "# Splošna analiza podatkov"
   ]
  },
  {
   "cell_type": "markdown",
   "metadata": {},
   "source": [
    "___\n",
    "## &nbsp; &nbsp; Povprečen igralec"
   ]
  },
  {
   "cell_type": "code",
   "execution_count": 69,
   "metadata": {},
   "outputs": [
    {
     "data": {
      "text/plain": [
       "TrznaVrednost      9.61\n",
       "Starost           25.61\n",
       "Visina           182.79\n",
       "dtype: float64"
      ]
     },
     "execution_count": 69,
     "metadata": {},
     "output_type": "execute_result"
    }
   ],
   "source": [
    "igralci[['TrznaVrednost','Starost','Visina']].mean().round(2)"
   ]
  },
  {
   "cell_type": "markdown",
   "metadata": {},
   "source": [
    "Povprečen igralec najboljših petih evropskih lig je vreden malo manj kot 10,000,000.00€, star je med 25 in 26 let in je visok skoraj 183cm.  Če igralce primerjamo s povprečno osebo, ki ima neto vrednost 79,952€, je stara približno 31 let in je visoka 1,70cm, če je moškega spola in 1,60cm če je ženskega, vidimo da nogometaši močno odstopajo od povprečja."
   ]
  },
  {
   "cell_type": "markdown",
   "metadata": {},
   "source": [
    "---\n",
    "##  &nbsp; &nbsp; Najdražji in najcenejši igralci"
   ]
  },
  {
   "cell_type": "code",
   "execution_count": 70,
   "metadata": {},
   "outputs": [
    {
     "data": {
      "text/html": [
       "<div>\n",
       "<style scoped>\n",
       "    .dataframe tbody tr th:only-of-type {\n",
       "        vertical-align: middle;\n",
       "    }\n",
       "\n",
       "    .dataframe tbody tr th {\n",
       "        vertical-align: top;\n",
       "    }\n",
       "\n",
       "    .dataframe thead th {\n",
       "        text-align: right;\n",
       "    }\n",
       "</style>\n",
       "<table border=\"1\" class=\"dataframe\">\n",
       "  <thead>\n",
       "    <tr style=\"text-align: right;\">\n",
       "      <th></th>\n",
       "      <th>Ime</th>\n",
       "      <th>TrznaVrednost</th>\n",
       "    </tr>\n",
       "  </thead>\n",
       "  <tbody>\n",
       "    <tr>\n",
       "      <th>2728</th>\n",
       "      <td>Valentin Decarpentrie</td>\n",
       "      <td>0.1</td>\n",
       "    </tr>\n",
       "    <tr>\n",
       "      <th>1970</th>\n",
       "      <td>Baris Ekincier</td>\n",
       "      <td>0.1</td>\n",
       "    </tr>\n",
       "    <tr>\n",
       "      <th>43</th>\n",
       "      <td>Gianluca Pegolo</td>\n",
       "      <td>0.1</td>\n",
       "    </tr>\n",
       "    <tr>\n",
       "      <th>2010</th>\n",
       "      <td>Daniel Klein</td>\n",
       "      <td>0.1</td>\n",
       "    </tr>\n",
       "    <tr>\n",
       "      <th>1508</th>\n",
       "      <td>Aston Oxborough</td>\n",
       "      <td>0.1</td>\n",
       "    </tr>\n",
       "    <tr>\n",
       "      <th>...</th>\n",
       "      <td>...</td>\n",
       "      <td>...</td>\n",
       "    </tr>\n",
       "    <tr>\n",
       "      <th>493</th>\n",
       "      <td>Romelu Lukaku</td>\n",
       "      <td>100.0</td>\n",
       "    </tr>\n",
       "    <tr>\n",
       "      <th>309</th>\n",
       "      <td>Neymar</td>\n",
       "      <td>100.0</td>\n",
       "    </tr>\n",
       "    <tr>\n",
       "      <th>698</th>\n",
       "      <td>Harry Kane</td>\n",
       "      <td>120.0</td>\n",
       "    </tr>\n",
       "    <tr>\n",
       "      <th>2132</th>\n",
       "      <td>Erling Haaland</td>\n",
       "      <td>130.0</td>\n",
       "    </tr>\n",
       "    <tr>\n",
       "      <th>1790</th>\n",
       "      <td>Kylian Mbappé</td>\n",
       "      <td>160.0</td>\n",
       "    </tr>\n",
       "  </tbody>\n",
       "</table>\n",
       "<p>2771 rows × 2 columns</p>\n",
       "</div>"
      ],
      "text/plain": [
       "                        Ime  TrznaVrednost\n",
       "2728  Valentin Decarpentrie            0.1\n",
       "1970         Baris Ekincier            0.1\n",
       "43          Gianluca Pegolo            0.1\n",
       "2010           Daniel Klein            0.1\n",
       "1508        Aston Oxborough            0.1\n",
       "...                     ...            ...\n",
       "493           Romelu Lukaku          100.0\n",
       "309                  Neymar          100.0\n",
       "698              Harry Kane          120.0\n",
       "2132         Erling Haaland          130.0\n",
       "1790          Kylian Mbappé          160.0\n",
       "\n",
       "[2771 rows x 2 columns]"
      ]
     },
     "metadata": {},
     "output_type": "display_data"
    }
   ],
   "source": [
    "display(igralci[['Ime','TrznaVrednost']].sort_values('TrznaVrednost'))"
   ]
  },
  {
   "cell_type": "code",
   "execution_count": 71,
   "metadata": {},
   "outputs": [
    {
     "data": {
      "text/plain": [
       "ID                      342229\n",
       "Ime              Kylian Mbappé\n",
       "TrznaVrednost              160\n",
       "Starost                     22\n",
       "Visina                     178\n",
       "Drzavljanstvo           France\n",
       "MocnejsaNoga             right\n",
       "Liga                       FR1\n",
       "Name: 1790, dtype: object"
      ]
     },
     "execution_count": 71,
     "metadata": {},
     "output_type": "execute_result"
    }
   ],
   "source": [
    "igralci.iloc[1790]"
   ]
  },
  {
   "cell_type": "markdown",
   "metadata": {},
   "source": [
    "Najdražji igralec na Svetu je pričakovano mlad Francoz Kylian Mbappé, zanimivo je, da so sledeči štirje nogometaši pravtako napadalci.  \n",
    "Opazimo, da je najcenejših igralcev, oziroma igralcev, ki so vredni \"samo\" 100,000€, kar 32."
   ]
  },
  {
   "cell_type": "code",
   "execution_count": 72,
   "metadata": {},
   "outputs": [
    {
     "data": {
      "text/plain": [
       "32"
      ]
     },
     "execution_count": 72,
     "metadata": {},
     "output_type": "execute_result"
    }
   ],
   "source": [
    "najcenejši_igralci = igralci[igralci.TrznaVrednost == 0.1]\n",
    "najcenejši_igralci['ID'].count()"
   ]
  },
  {
   "cell_type": "markdown",
   "metadata": {},
   "source": [
    "---\n",
    "##  &nbsp; &nbsp; Državljanstva igralcev"
   ]
  },
  {
   "cell_type": "markdown",
   "metadata": {},
   "source": [
    "V reprezentančnem nogometu je Velika Britanija razdeljena na štiri dele: Angija, Škotska, Wales in Severna Irska. Zato je pravtako v mojih podatkih Velika Britanija razdeljena na te štiri reprezentance."
   ]
  },
  {
   "cell_type": "code",
   "execution_count": 78,
   "metadata": {},
   "outputs": [
    {
     "data": {
      "text/plain": [
       "Drzavljanstvo\n",
       "France      386\n",
       "Spain       374\n",
       "Germany     265\n",
       "Italy       262\n",
       "England     212\n",
       "           ... \n",
       "Haiti         1\n",
       "Honduras      1\n",
       "Comoros       1\n",
       "Chad          1\n",
       "Iran          1\n",
       "Length: 108, dtype: int64"
      ]
     },
     "execution_count": 78,
     "metadata": {},
     "output_type": "execute_result"
    }
   ],
   "source": [
    "igralci.groupby('Drzavljanstvo').size().sort_values(ascending=False)"
   ]
  },
  {
   "cell_type": "markdown",
   "metadata": {},
   "source": [
    "Najbolje zastopane države so, pričakovano, ravno tiste, ki gostijo najboljših pet evropskih nogometnih lig. Preverimo lahko povprečne višine nogometašev teh petih držav in jih primerjamo s povprečno višino moške populacije teh državah, ter preverimo pri katerih pride do največjega odstopanja (podatki o povprečni višini prebivalstva: [Wikipedia](https://en.wikipedia.org/wiki/Average_human_height_by_country#Height_surveys_and_studies \"https://en.wikipedia.org/wiki/Average_human_height_by_country#Height_surveys_and_studies\"))"
   ]
  },
  {
   "cell_type": "code",
   "execution_count": 79,
   "metadata": {},
   "outputs": [
    {
     "data": {
      "text/html": [
       "<style  type=\"text/css\" >\n",
       "</style><table id=\"T_9d1b4f2f_04f4_11ec_ba0d_7824afa019d0\" style='display:inline'><caption>Povprečna višina &nbsp&nbsp&nbsp&nbsp&nbsp nogometašev</caption><thead>    <tr>        <th class=\"blank level0\" ></th>        <th class=\"col_heading level0 col0\" >Država</th>        <th class=\"col_heading level0 col1\" >Povprečna Višina</th>    </tr></thead><tbody>\n",
       "                <tr>\n",
       "                        <th id=\"T_9d1b4f2f_04f4_11ec_ba0d_7824afa019d0level0_row0\" class=\"row_heading level0 row0\" >2</th>\n",
       "                        <td id=\"T_9d1b4f2f_04f4_11ec_ba0d_7824afa019d0row0_col0\" class=\"data row0 col0\" >Nemčija</td>\n",
       "                        <td id=\"T_9d1b4f2f_04f4_11ec_ba0d_7824afa019d0row0_col1\" class=\"data row0 col1\" >182.162264</td>\n",
       "            </tr>\n",
       "            <tr>\n",
       "                        <th id=\"T_9d1b4f2f_04f4_11ec_ba0d_7824afa019d0level0_row1\" class=\"row_heading level0 row1\" >4</th>\n",
       "                        <td id=\"T_9d1b4f2f_04f4_11ec_ba0d_7824afa019d0row1_col0\" class=\"data row1 col0\" >Anglija</td>\n",
       "                        <td id=\"T_9d1b4f2f_04f4_11ec_ba0d_7824afa019d0row1_col1\" class=\"data row1 col1\" >180.783019</td>\n",
       "            </tr>\n",
       "            <tr>\n",
       "                        <th id=\"T_9d1b4f2f_04f4_11ec_ba0d_7824afa019d0level0_row2\" class=\"row_heading level0 row2\" >0</th>\n",
       "                        <td id=\"T_9d1b4f2f_04f4_11ec_ba0d_7824afa019d0row2_col0\" class=\"data row2 col0\" >Francija</td>\n",
       "                        <td id=\"T_9d1b4f2f_04f4_11ec_ba0d_7824afa019d0row2_col1\" class=\"data row2 col1\" >179.624352</td>\n",
       "            </tr>\n",
       "            <tr>\n",
       "                        <th id=\"T_9d1b4f2f_04f4_11ec_ba0d_7824afa019d0level0_row3\" class=\"row_heading level0 row3\" >1</th>\n",
       "                        <td id=\"T_9d1b4f2f_04f4_11ec_ba0d_7824afa019d0row3_col0\" class=\"data row3 col0\" >Španija</td>\n",
       "                        <td id=\"T_9d1b4f2f_04f4_11ec_ba0d_7824afa019d0row3_col1\" class=\"data row3 col1\" >179.561497</td>\n",
       "            </tr>\n",
       "            <tr>\n",
       "                        <th id=\"T_9d1b4f2f_04f4_11ec_ba0d_7824afa019d0level0_row4\" class=\"row_heading level0 row4\" >3</th>\n",
       "                        <td id=\"T_9d1b4f2f_04f4_11ec_ba0d_7824afa019d0row4_col0\" class=\"data row4 col0\" >Italija</td>\n",
       "                        <td id=\"T_9d1b4f2f_04f4_11ec_ba0d_7824afa019d0row4_col1\" class=\"data row4 col1\" >178.278626</td>\n",
       "            </tr>\n",
       "    </tbody></table>"
      ],
      "text/plain": [
       "<pandas.io.formats.style.Styler at 0xcd013a0>"
      ]
     },
     "metadata": {},
     "output_type": "display_data"
    },
    {
     "data": {
      "text/html": [
       "<style  type=\"text/css\" >\n",
       "</style><table id=\"T_9d1bc461_04f4_11ec_a24b_7824afa019d0\" style='display:inline'><caption>Povprečna višina moške populacije</caption><thead>    <tr>        <th class=\"blank level0\" ></th>        <th class=\"col_heading level0 col0\" >Država</th>        <th class=\"col_heading level0 col1\" >Povprečna Višina</th>    </tr></thead><tbody>\n",
       "                <tr>\n",
       "                        <th id=\"T_9d1bc461_04f4_11ec_a24b_7824afa019d0level0_row0\" class=\"row_heading level0 row0\" >0</th>\n",
       "                        <td id=\"T_9d1bc461_04f4_11ec_a24b_7824afa019d0row0_col0\" class=\"data row0 col0\" >Nemčija</td>\n",
       "                        <td id=\"T_9d1bc461_04f4_11ec_a24b_7824afa019d0row0_col1\" class=\"data row0 col1\" >178.000000</td>\n",
       "            </tr>\n",
       "            <tr>\n",
       "                        <th id=\"T_9d1bc461_04f4_11ec_a24b_7824afa019d0level0_row1\" class=\"row_heading level0 row1\" >1</th>\n",
       "                        <td id=\"T_9d1bc461_04f4_11ec_a24b_7824afa019d0row1_col0\" class=\"data row1 col0\" >Anglija</td>\n",
       "                        <td id=\"T_9d1bc461_04f4_11ec_a24b_7824afa019d0row1_col1\" class=\"data row1 col1\" >175.300000</td>\n",
       "            </tr>\n",
       "            <tr>\n",
       "                        <th id=\"T_9d1bc461_04f4_11ec_a24b_7824afa019d0level0_row2\" class=\"row_heading level0 row2\" >2</th>\n",
       "                        <td id=\"T_9d1bc461_04f4_11ec_a24b_7824afa019d0row2_col0\" class=\"data row2 col0\" >Francija</td>\n",
       "                        <td id=\"T_9d1bc461_04f4_11ec_a24b_7824afa019d0row2_col1\" class=\"data row2 col1\" >174.100000</td>\n",
       "            </tr>\n",
       "            <tr>\n",
       "                        <th id=\"T_9d1bc461_04f4_11ec_a24b_7824afa019d0level0_row3\" class=\"row_heading level0 row3\" >3</th>\n",
       "                        <td id=\"T_9d1bc461_04f4_11ec_a24b_7824afa019d0row3_col0\" class=\"data row3 col0\" >Španija</td>\n",
       "                        <td id=\"T_9d1bc461_04f4_11ec_a24b_7824afa019d0row3_col1\" class=\"data row3 col1\" >173.100000</td>\n",
       "            </tr>\n",
       "            <tr>\n",
       "                        <th id=\"T_9d1bc461_04f4_11ec_a24b_7824afa019d0level0_row4\" class=\"row_heading level0 row4\" >4</th>\n",
       "                        <td id=\"T_9d1bc461_04f4_11ec_a24b_7824afa019d0row4_col0\" class=\"data row4 col0\" >Italija</td>\n",
       "                        <td id=\"T_9d1bc461_04f4_11ec_a24b_7824afa019d0row4_col1\" class=\"data row4 col1\" >176.500000</td>\n",
       "            </tr>\n",
       "    </tbody></table>"
      ],
      "text/plain": [
       "<pandas.io.formats.style.Styler at 0xcd289b8>"
      ]
     },
     "metadata": {},
     "output_type": "display_data"
    }
   ],
   "source": [
    "Povp_v_FR = igralci[igralci.Drzavljanstvo == 'France'].Visina.sum()/igralci[igralci.Drzavljanstvo == 'France'].ID.count()\n",
    "Povp_v_SP = igralci[igralci.Drzavljanstvo == 'Spain'].Visina.sum()/igralci[igralci.Drzavljanstvo == 'Spain'].ID.count()\n",
    "Povp_v_NE = igralci[igralci.Drzavljanstvo == 'Germany'].Visina.sum()/igralci[igralci.Drzavljanstvo == 'Germany'].ID.count()\n",
    "Povp_v_IT = igralci[igralci.Drzavljanstvo == 'Italy'].Visina.sum()/igralci[igralci.Drzavljanstvo == 'Italy'].ID.count()\n",
    "Povp_v_AN = igralci[igralci.Drzavljanstvo == 'England'].Visina.sum()/igralci[igralci.Drzavljanstvo == 'England'].ID.count()\n",
    "Povp_v = ({'Država':['Francija','Španija','Nemčija','Italija','Anglija'],\n",
    "            'Povprečna Višina':[Povp_v_FR,Povp_v_SP,Povp_v_NE,Povp_v_IT,Povp_v_AN]})\n",
    "\n",
    "visina_populacija = ({'Država':['Nemčija','Anglija','Francija','Španija','Italija'],\n",
    "                     'Povprečna Višina':[178,175.3,174.1,173.1,176.5]})\n",
    "\n",
    "df1 = pd.DataFrame(Povp_v).sort_values(by = 'Povprečna Višina', ascending=False)\n",
    "df2 = pd.DataFrame(visina_populacija)\n",
    "display(df1.style.set_table_attributes(\"style='display:inline'\").set_caption('Povprečna višina &nbsp&nbsp&nbsp&nbsp&nbsp nogometašev'))\n",
    "display(df2.style.set_table_attributes(\"style='display:inline'\").set_caption('Povprečna višina moške populacije'))"
   ]
  },
  {
   "cell_type": "markdown",
   "metadata": {},
   "source": [
    "Vidimo, da so nogometaši višji od povprečnega moškega, zanimivo je, da kljub temu da so po podatkih wikipedije Italijani drugi najvišji na tem seznamu, so njihovi nogometaši najnižji. Preverimo še v kateri državi je ta razlika najbolj izrazita."
   ]
  },
  {
   "cell_type": "code",
   "execution_count": 80,
   "metadata": {},
   "outputs": [
    {
     "data": {
      "text/html": [
       "<div>\n",
       "<style scoped>\n",
       "    .dataframe tbody tr th:only-of-type {\n",
       "        vertical-align: middle;\n",
       "    }\n",
       "\n",
       "    .dataframe tbody tr th {\n",
       "        vertical-align: top;\n",
       "    }\n",
       "\n",
       "    .dataframe thead th {\n",
       "        text-align: right;\n",
       "    }\n",
       "</style>\n",
       "<table border=\"1\" class=\"dataframe\">\n",
       "  <thead>\n",
       "    <tr style=\"text-align: right;\">\n",
       "      <th></th>\n",
       "      <th>Država</th>\n",
       "      <th>Razlika v višini [%]</th>\n",
       "    </tr>\n",
       "  </thead>\n",
       "  <tbody>\n",
       "    <tr>\n",
       "      <th>1</th>\n",
       "      <td>Španija</td>\n",
       "      <td>3.732812</td>\n",
       "    </tr>\n",
       "    <tr>\n",
       "      <th>0</th>\n",
       "      <td>Francija</td>\n",
       "      <td>3.173092</td>\n",
       "    </tr>\n",
       "    <tr>\n",
       "      <th>4</th>\n",
       "      <td>Anglija</td>\n",
       "      <td>3.127792</td>\n",
       "    </tr>\n",
       "    <tr>\n",
       "      <th>2</th>\n",
       "      <td>Nemčija</td>\n",
       "      <td>2.338351</td>\n",
       "    </tr>\n",
       "    <tr>\n",
       "      <th>3</th>\n",
       "      <td>Italija</td>\n",
       "      <td>1.007720</td>\n",
       "    </tr>\n",
       "  </tbody>\n",
       "</table>\n",
       "</div>"
      ],
      "text/plain": [
       "     Država  Razlika v višini [%]\n",
       "1   Španija              3.732812\n",
       "0  Francija              3.173092\n",
       "4   Anglija              3.127792\n",
       "2   Nemčija              2.338351\n",
       "3   Italija              1.007720"
      ]
     },
     "execution_count": 80,
     "metadata": {},
     "output_type": "execute_result"
    }
   ],
   "source": [
    "razlika_visine = ({'Država':['Francija','Španija','Nemčija','Italija','Anglija'],\n",
    "                   'Razlika v višini [%]':[(Povp_v_FR/174.1 - 1)*100,(Povp_v_SP/173.1 - 1)*100,\n",
    "                    (Povp_v_NE/178 - 1)*100,(Povp_v_IT/176.5 - 1)*100,(Povp_v_AN/175.3 - 1)*100]})\n",
    "pd.DataFrame(razlika_visine).sort_values(by = 'Razlika v višini [%]', ascending=False)"
   ]
  },
  {
   "cell_type": "markdown",
   "metadata": {},
   "source": [
    "Največja razlika med višinami nogometašev in splošne moške populacije je v Španiji in ta znaša le 3.7%."
   ]
  },
  {
   "cell_type": "markdown",
   "metadata": {},
   "source": [
    "---\n",
    "## &nbsp; &nbsp; Vrednosti Lig"
   ]
  },
  {
   "cell_type": "markdown",
   "metadata": {},
   "source": [
    "Preverimo še katera liga je najdražja oziroma najcenejša in katera je povprečno najdražja oziroma najcenejša. Napišimo funkcijo, ki bo seštela vrednosti vseh igralcev vsake lige in povprečno vrednost igralcev vsake lige, ter podatke podala v tabeli."
   ]
  },
  {
   "cell_type": "code",
   "execution_count": 81,
   "metadata": {},
   "outputs": [],
   "source": [
    "def vrednost_lig(sez_lig):\n",
    "    dict = {}\n",
    "    for liga in sez_lig:\n",
    "        vrednost = igralci[igralci.Liga == liga].TrznaVrednost.sum()\n",
    "        st_igralcev = igralci[igralci.Liga == liga].ID.count()\n",
    "        dict[liga] = {'Vrednost': vrednost,'Povprečna Vrednost': vrednost/st_igralcev}\n",
    "    return pd.DataFrame(dict).T    "
   ]
  },
  {
   "cell_type": "code",
   "execution_count": 82,
   "metadata": {},
   "outputs": [
    {
     "data": {
      "text/html": [
       "<style  type=\"text/css\" >\n",
       "</style><table id=\"T_a39370bf_04f4_11ec_9927_7824afa019d0\" style='display:inline'><caption>Urejeno po Vrednosti [mil €]</caption><thead>    <tr>        <th class=\"blank level0\" ></th>        <th class=\"col_heading level0 col0\" >Vrednost</th>        <th class=\"col_heading level0 col1\" >Povprečna Vrednost</th>    </tr></thead><tbody>\n",
       "                <tr>\n",
       "                        <th id=\"T_a39370bf_04f4_11ec_9927_7824afa019d0level0_row0\" class=\"row_heading level0 row0\" >GB1</th>\n",
       "                        <td id=\"T_a39370bf_04f4_11ec_9927_7824afa019d0row0_col0\" class=\"data row0 col0\" >8991.200000</td>\n",
       "                        <td id=\"T_a39370bf_04f4_11ec_9927_7824afa019d0row0_col1\" class=\"data row0 col1\" >16.288406</td>\n",
       "            </tr>\n",
       "            <tr>\n",
       "                        <th id=\"T_a39370bf_04f4_11ec_9927_7824afa019d0level0_row1\" class=\"row_heading level0 row1\" >ES1</th>\n",
       "                        <td id=\"T_a39370bf_04f4_11ec_9927_7824afa019d0row1_col0\" class=\"data row1 col0\" >4897.425000</td>\n",
       "                        <td id=\"T_a39370bf_04f4_11ec_9927_7824afa019d0row1_col1\" class=\"data row1 col1\" >9.509563</td>\n",
       "            </tr>\n",
       "            <tr>\n",
       "                        <th id=\"T_a39370bf_04f4_11ec_9927_7824afa019d0level0_row2\" class=\"row_heading level0 row2\" >IT1</th>\n",
       "                        <td id=\"T_a39370bf_04f4_11ec_9927_7824afa019d0row2_col0\" class=\"data row2 col0\" >4853.100000</td>\n",
       "                        <td id=\"T_a39370bf_04f4_11ec_9927_7824afa019d0row2_col1\" class=\"data row2 col1\" >8.021653</td>\n",
       "            </tr>\n",
       "            <tr>\n",
       "                        <th id=\"T_a39370bf_04f4_11ec_9927_7824afa019d0level0_row3\" class=\"row_heading level0 row3\" >L1</th>\n",
       "                        <td id=\"T_a39370bf_04f4_11ec_9927_7824afa019d0row3_col0\" class=\"data row3 col0\" >4218.975000</td>\n",
       "                        <td id=\"T_a39370bf_04f4_11ec_9927_7824afa019d0row3_col1\" class=\"data row3 col1\" >8.036143</td>\n",
       "            </tr>\n",
       "            <tr>\n",
       "                        <th id=\"T_a39370bf_04f4_11ec_9927_7824afa019d0level0_row4\" class=\"row_heading level0 row4\" >FR1</th>\n",
       "                        <td id=\"T_a39370bf_04f4_11ec_9927_7824afa019d0row4_col0\" class=\"data row4 col0\" >3680.225000</td>\n",
       "                        <td id=\"T_a39370bf_04f4_11ec_9927_7824afa019d0row4_col1\" class=\"data row4 col1\" >6.411542</td>\n",
       "            </tr>\n",
       "    </tbody></table>"
      ],
      "text/plain": [
       "<pandas.io.formats.style.Styler at 0xb84ceb0>"
      ]
     },
     "metadata": {},
     "output_type": "display_data"
    },
    {
     "data": {
      "text/html": [
       "<style  type=\"text/css\" >\n",
       "</style><table id=\"T_a3940d01_04f4_11ec_a607_7824afa019d0\" style='display:inline'><caption>Urejeno po povprečni vrednosti [mil €]</caption><thead>    <tr>        <th class=\"blank level0\" ></th>        <th class=\"col_heading level0 col0\" >Vrednost</th>        <th class=\"col_heading level0 col1\" >Povprečna Vrednost</th>    </tr></thead><tbody>\n",
       "                <tr>\n",
       "                        <th id=\"T_a3940d01_04f4_11ec_a607_7824afa019d0level0_row0\" class=\"row_heading level0 row0\" >GB1</th>\n",
       "                        <td id=\"T_a3940d01_04f4_11ec_a607_7824afa019d0row0_col0\" class=\"data row0 col0\" >8991.200000</td>\n",
       "                        <td id=\"T_a3940d01_04f4_11ec_a607_7824afa019d0row0_col1\" class=\"data row0 col1\" >16.288406</td>\n",
       "            </tr>\n",
       "            <tr>\n",
       "                        <th id=\"T_a3940d01_04f4_11ec_a607_7824afa019d0level0_row1\" class=\"row_heading level0 row1\" >ES1</th>\n",
       "                        <td id=\"T_a3940d01_04f4_11ec_a607_7824afa019d0row1_col0\" class=\"data row1 col0\" >4897.425000</td>\n",
       "                        <td id=\"T_a3940d01_04f4_11ec_a607_7824afa019d0row1_col1\" class=\"data row1 col1\" >9.509563</td>\n",
       "            </tr>\n",
       "            <tr>\n",
       "                        <th id=\"T_a3940d01_04f4_11ec_a607_7824afa019d0level0_row2\" class=\"row_heading level0 row2\" >L1</th>\n",
       "                        <td id=\"T_a3940d01_04f4_11ec_a607_7824afa019d0row2_col0\" class=\"data row2 col0\" >4218.975000</td>\n",
       "                        <td id=\"T_a3940d01_04f4_11ec_a607_7824afa019d0row2_col1\" class=\"data row2 col1\" >8.036143</td>\n",
       "            </tr>\n",
       "            <tr>\n",
       "                        <th id=\"T_a3940d01_04f4_11ec_a607_7824afa019d0level0_row3\" class=\"row_heading level0 row3\" >IT1</th>\n",
       "                        <td id=\"T_a3940d01_04f4_11ec_a607_7824afa019d0row3_col0\" class=\"data row3 col0\" >4853.100000</td>\n",
       "                        <td id=\"T_a3940d01_04f4_11ec_a607_7824afa019d0row3_col1\" class=\"data row3 col1\" >8.021653</td>\n",
       "            </tr>\n",
       "            <tr>\n",
       "                        <th id=\"T_a3940d01_04f4_11ec_a607_7824afa019d0level0_row4\" class=\"row_heading level0 row4\" >FR1</th>\n",
       "                        <td id=\"T_a3940d01_04f4_11ec_a607_7824afa019d0row4_col0\" class=\"data row4 col0\" >3680.225000</td>\n",
       "                        <td id=\"T_a3940d01_04f4_11ec_a607_7824afa019d0row4_col1\" class=\"data row4 col1\" >6.411542</td>\n",
       "            </tr>\n",
       "    </tbody></table>"
      ],
      "text/plain": [
       "<pandas.io.formats.style.Styler at 0xcb361f0>"
      ]
     },
     "metadata": {},
     "output_type": "display_data"
    }
   ],
   "source": [
    "df1 = vrednost_lig(['GB1','ES1','L1','IT1','FR1']).sort_values(by = 'Vrednost', ascending=False)\n",
    "df2 = vrednost_lig(['GB1','ES1','L1','IT1','FR1']).sort_values(by = 'Povprečna Vrednost', ascending=False)\n",
    "display(df1.style.set_table_attributes(\"style='display:inline'\").set_caption('Urejeno po Vrednosti [mil €]'))\n",
    "display(df2.style.set_table_attributes(\"style='display:inline'\").set_caption('Urejeno po povprečni vrednosti [mil €]'))"
   ]
  },
  {
   "cell_type": "markdown",
   "metadata": {},
   "source": [
    "Angleška Premier Liga ima največjo skupno **in** povprečno vrednost nogometašev, kar ni presenetljivo, kajti že vrsto let od sponzorskih in TV pogodb angleški klubi dobivajo veliko več denarja kot pa klubi vseh ostalih lig, z izjemo španskih velikanov Real Madrida in Barcelone ([TV pogodbe top 5 lig](https://www.danielgeey.com/post/football-broadcasting-deals-across-the-top-5-european-leagues/ \"www.danielgeey.com\"))."
   ]
  },
  {
   "cell_type": "markdown",
   "metadata": {},
   "source": [
    "<br/>\n",
    "<br/>"
   ]
  },
  {
   "cell_type": "markdown",
   "metadata": {},
   "source": [
    "\n",
    "# Hipoteze"
   ]
  },
  {
   "cell_type": "markdown",
   "metadata": {},
   "source": [
    "---\n",
    "## &nbsp; &nbsp; Hipozeta 1:\n",
    "_Najdražji igralci so Brazilci_"
   ]
  },
  {
   "cell_type": "markdown",
   "metadata": {},
   "source": [
    "Najprej moramo napisati funkcijo, ki bo seštela vrednosti igralcev iz iste države in nato to vrednost delila s številom igralcev iz te države, ter podala dobljene podatke v obliki tabele."
   ]
  },
  {
   "cell_type": "code",
   "execution_count": 83,
   "metadata": {},
   "outputs": [],
   "source": [
    "def povprecna_vr_po_drzavljanstvu(df):\n",
    "    data = {}\n",
    "    dict = {}\n",
    "    st_drzav = len(df.groupby('Drzavljanstvo').size().index)\n",
    "    for n in range(st_drzav):\n",
    "        drzava = df.groupby('Drzavljanstvo').size().index[n]\n",
    "        trzna_v = df.groupby('Drzavljanstvo').TrznaVrednost.sum()[n]\n",
    "        st_igralcev = df.groupby('Drzavljanstvo').size()[n]\n",
    "        dict[drzava] = (((trzna_v / st_igralcev) * 1000 ) // 10) / 100\n",
    "    data['Države'] = dict.keys()\n",
    "    data['Vrednost'] = dict.values()\n",
    "    return pd.DataFrame(data)"
   ]
  },
  {
   "cell_type": "markdown",
   "metadata": {},
   "source": [
    "Oglejmo si sedaj katero državo v Evropskem nogometu zastopajo najdražji igralci. "
   ]
  },
  {
   "cell_type": "code",
   "execution_count": 84,
   "metadata": {},
   "outputs": [
    {
     "data": {
      "text/html": [
       "<div>\n",
       "<style scoped>\n",
       "    .dataframe tbody tr th:only-of-type {\n",
       "        vertical-align: middle;\n",
       "    }\n",
       "\n",
       "    .dataframe tbody tr th {\n",
       "        vertical-align: top;\n",
       "    }\n",
       "\n",
       "    .dataframe thead th {\n",
       "        text-align: right;\n",
       "    }\n",
       "</style>\n",
       "<table border=\"1\" class=\"dataframe\">\n",
       "  <thead>\n",
       "    <tr style=\"text-align: right;\">\n",
       "      <th></th>\n",
       "      <th>Države</th>\n",
       "      <th>Vrednost</th>\n",
       "    </tr>\n",
       "  </thead>\n",
       "  <tbody>\n",
       "    <tr>\n",
       "      <th>15</th>\n",
       "      <td>Canada</td>\n",
       "      <td>52.50</td>\n",
       "    </tr>\n",
       "    <tr>\n",
       "      <th>34</th>\n",
       "      <td>Egypt</td>\n",
       "      <td>30.50</td>\n",
       "    </tr>\n",
       "    <tr>\n",
       "      <th>13</th>\n",
       "      <td>Burkina Faso</td>\n",
       "      <td>21.00</td>\n",
       "    </tr>\n",
       "    <tr>\n",
       "      <th>81</th>\n",
       "      <td>Portugal</td>\n",
       "      <td>18.57</td>\n",
       "    </tr>\n",
       "    <tr>\n",
       "      <th>8</th>\n",
       "      <td>Belgium</td>\n",
       "      <td>18.42</td>\n",
       "    </tr>\n",
       "    <tr>\n",
       "      <th>106</th>\n",
       "      <td>Zambia</td>\n",
       "      <td>17.50</td>\n",
       "    </tr>\n",
       "    <tr>\n",
       "      <th>11</th>\n",
       "      <td>Brazil</td>\n",
       "      <td>17.11</td>\n",
       "    </tr>\n",
       "    <tr>\n",
       "      <th>59</th>\n",
       "      <td>Korea, South</td>\n",
       "      <td>16.85</td>\n",
       "    </tr>\n",
       "    <tr>\n",
       "      <th>35</th>\n",
       "      <td>England</td>\n",
       "      <td>14.91</td>\n",
       "    </tr>\n",
       "    <tr>\n",
       "      <th>3</th>\n",
       "      <td>Argentina</td>\n",
       "      <td>14.56</td>\n",
       "    </tr>\n",
       "  </tbody>\n",
       "</table>\n",
       "</div>"
      ],
      "text/plain": [
       "           Države  Vrednost\n",
       "15         Canada     52.50\n",
       "34          Egypt     30.50\n",
       "13   Burkina Faso     21.00\n",
       "81       Portugal     18.57\n",
       "8         Belgium     18.42\n",
       "106        Zambia     17.50\n",
       "11         Brazil     17.11\n",
       "59   Korea, South     16.85\n",
       "35        England     14.91\n",
       "3       Argentina     14.56"
      ]
     },
     "execution_count": 84,
     "metadata": {},
     "output_type": "execute_result"
    }
   ],
   "source": [
    "povprecna_vr_po_drzavljanstvu(igralci).sort_values(by = 'Vrednost', ascending=False).head(10)"
   ]
  },
  {
   "cell_type": "code",
   "execution_count": 85,
   "metadata": {},
   "outputs": [
    {
     "data": {
      "text/html": [
       "<div>\n",
       "<style scoped>\n",
       "    .dataframe tbody tr th:only-of-type {\n",
       "        vertical-align: middle;\n",
       "    }\n",
       "\n",
       "    .dataframe tbody tr th {\n",
       "        vertical-align: top;\n",
       "    }\n",
       "\n",
       "    .dataframe thead th {\n",
       "        text-align: right;\n",
       "    }\n",
       "</style>\n",
       "<table border=\"1\" class=\"dataframe\">\n",
       "  <thead>\n",
       "    <tr style=\"text-align: right;\">\n",
       "      <th></th>\n",
       "      <th>ID</th>\n",
       "      <th>Ime</th>\n",
       "      <th>TrznaVrednost</th>\n",
       "      <th>Starost</th>\n",
       "      <th>Visina</th>\n",
       "      <th>Drzavljanstvo</th>\n",
       "      <th>MocnejsaNoga</th>\n",
       "      <th>Liga</th>\n",
       "    </tr>\n",
       "  </thead>\n",
       "  <tbody>\n",
       "    <tr>\n",
       "      <th>2156</th>\n",
       "      <td>424204</td>\n",
       "      <td>Alphonso Davies</td>\n",
       "      <td>70.0</td>\n",
       "      <td>20</td>\n",
       "      <td>183.0</td>\n",
       "      <td>Canada</td>\n",
       "      <td>left</td>\n",
       "      <td>L1</td>\n",
       "    </tr>\n",
       "    <tr>\n",
       "      <th>2436</th>\n",
       "      <td>533738</td>\n",
       "      <td>Jonathan David</td>\n",
       "      <td>35.0</td>\n",
       "      <td>21</td>\n",
       "      <td>180.0</td>\n",
       "      <td>Canada</td>\n",
       "      <td>both</td>\n",
       "      <td>FR1</td>\n",
       "    </tr>\n",
       "  </tbody>\n",
       "</table>\n",
       "</div>"
      ],
      "text/plain": [
       "          ID              Ime  TrznaVrednost  Starost  Visina Drzavljanstvo  \\\n",
       "2156  424204  Alphonso Davies           70.0       20   183.0        Canada   \n",
       "2436  533738   Jonathan David           35.0       21   180.0        Canada   \n",
       "\n",
       "     MocnejsaNoga Liga  \n",
       "2156         left   L1  \n",
       "2436         both  FR1  "
      ]
     },
     "execution_count": 85,
     "metadata": {},
     "output_type": "execute_result"
    }
   ],
   "source": [
    "igralci[igralci.Drzavljanstvo == 'Canada']"
   ]
  },
  {
   "cell_type": "markdown",
   "metadata": {},
   "source": [
    "Opazimo, da v najboljših petih evropskih ligah igrata le dva Kanadčana. Oba imata visoko vrednost, zato dobljeni podatki niso zelo zanimivi, vzemimo raje le samo države z desetimi ali več igralci."
   ]
  },
  {
   "cell_type": "code",
   "execution_count": 86,
   "metadata": {},
   "outputs": [
    {
     "data": {
      "text/html": [
       "<div>\n",
       "<style scoped>\n",
       "    .dataframe tbody tr th:only-of-type {\n",
       "        vertical-align: middle;\n",
       "    }\n",
       "\n",
       "    .dataframe tbody tr th {\n",
       "        vertical-align: top;\n",
       "    }\n",
       "\n",
       "    .dataframe thead th {\n",
       "        text-align: right;\n",
       "    }\n",
       "</style>\n",
       "<table border=\"1\" class=\"dataframe\">\n",
       "  <thead>\n",
       "    <tr style=\"text-align: right;\">\n",
       "      <th></th>\n",
       "      <th>Države</th>\n",
       "      <th>Vrednost</th>\n",
       "    </tr>\n",
       "  </thead>\n",
       "  <tbody>\n",
       "    <tr>\n",
       "      <th>28</th>\n",
       "      <td>Portugal</td>\n",
       "      <td>18.57</td>\n",
       "    </tr>\n",
       "    <tr>\n",
       "      <th>4</th>\n",
       "      <td>Belgium</td>\n",
       "      <td>18.42</td>\n",
       "    </tr>\n",
       "    <tr>\n",
       "      <th>6</th>\n",
       "      <td>Brazil</td>\n",
       "      <td>17.11</td>\n",
       "    </tr>\n",
       "    <tr>\n",
       "      <th>14</th>\n",
       "      <td>England</td>\n",
       "      <td>14.91</td>\n",
       "    </tr>\n",
       "    <tr>\n",
       "      <th>2</th>\n",
       "      <td>Argentina</td>\n",
       "      <td>14.56</td>\n",
       "    </tr>\n",
       "    <tr>\n",
       "      <th>40</th>\n",
       "      <td>Uruguay</td>\n",
       "      <td>14.01</td>\n",
       "    </tr>\n",
       "    <tr>\n",
       "      <th>30</th>\n",
       "      <td>Scotland</td>\n",
       "      <td>13.21</td>\n",
       "    </tr>\n",
       "    <tr>\n",
       "      <th>24</th>\n",
       "      <td>Netherlands</td>\n",
       "      <td>13.12</td>\n",
       "    </tr>\n",
       "    <tr>\n",
       "      <th>26</th>\n",
       "      <td>Norway</td>\n",
       "      <td>12.86</td>\n",
       "    </tr>\n",
       "    <tr>\n",
       "      <th>39</th>\n",
       "      <td>United States</td>\n",
       "      <td>12.03</td>\n",
       "    </tr>\n",
       "  </tbody>\n",
       "</table>\n",
       "</div>"
      ],
      "text/plain": [
       "           Države  Vrednost\n",
       "28       Portugal     18.57\n",
       "4         Belgium     18.42\n",
       "6          Brazil     17.11\n",
       "14        England     14.91\n",
       "2       Argentina     14.56\n",
       "40        Uruguay     14.01\n",
       "30       Scotland     13.21\n",
       "24    Netherlands     13.12\n",
       "26         Norway     12.86\n",
       "39  United States     12.03"
      ]
     },
     "execution_count": 86,
     "metadata": {},
     "output_type": "execute_result"
    }
   ],
   "source": [
    "igralci_drzave_10 = igralci.groupby('Drzavljanstvo').size().sort_values(ascending=False)[:42]\n",
    "ig10 = igralci[igralci.Drzavljanstvo.isin(igralci_drzave_10.index)]\n",
    "povprecna_vr_po_drzavljanstvu(ig10).sort_values(by = 'Vrednost', ascending=False).head(10)"
   ]
  },
  {
   "cell_type": "markdown",
   "metadata": {},
   "source": [
    "Prva hipoteza je odvržena, Brazilci so med tremi najdražjim, vendar so Belgijci in Portugalci povprečno dražji. Zanimivo, kjubt temu da je najdražji nogometaš na Svetu Kylian Mbappé, Francozi niso niti med povprečno najdražjimi 10 državljanstvi nogometašev.\n",
    "\n",
    "Preverimo še, če so Brazilci vendarle povprečno najdražji v kateri ligi. Vzemimo samo države z več kot 20 predstavniki."
   ]
  },
  {
   "cell_type": "code",
   "execution_count": 87,
   "metadata": {},
   "outputs": [
    {
     "data": {
      "text/html": [
       "<style  type=\"text/css\" >\n",
       "</style><table id=\"T_aafcac96_04f4_11ec_9a27_7824afa019d0\" style='display:inline'><caption>Angleška Liga</caption><thead>    <tr>        <th class=\"blank level0\" ></th>        <th class=\"col_heading level0 col0\" >Države</th>        <th class=\"col_heading level0 col1\" >Vrednost</th>    </tr></thead><tbody>\n",
       "                <tr>\n",
       "                        <th id=\"T_aafcac96_04f4_11ec_9a27_7824afa019d0level0_row0\" class=\"row_heading level0 row0\" >0</th>\n",
       "                        <td id=\"T_aafcac96_04f4_11ec_9a27_7824afa019d0row0_col0\" class=\"data row0 col0\" >Algeria</td>\n",
       "                        <td id=\"T_aafcac96_04f4_11ec_9a27_7824afa019d0row0_col1\" class=\"data row0 col1\" >32.000000</td>\n",
       "            </tr>\n",
       "            <tr>\n",
       "                        <th id=\"T_aafcac96_04f4_11ec_9a27_7824afa019d0level0_row1\" class=\"row_heading level0 row1\" >3</th>\n",
       "                        <td id=\"T_aafcac96_04f4_11ec_9a27_7824afa019d0row1_col0\" class=\"data row1 col0\" >Belgium</td>\n",
       "                        <td id=\"T_aafcac96_04f4_11ec_9a27_7824afa019d0row1_col1\" class=\"data row1 col1\" >29.730000</td>\n",
       "            </tr>\n",
       "            <tr>\n",
       "                        <th id=\"T_aafcac96_04f4_11ec_9a27_7824afa019d0level0_row2\" class=\"row_heading level0 row2\" >21</th>\n",
       "                        <td id=\"T_aafcac96_04f4_11ec_9a27_7824afa019d0row2_col0\" class=\"data row2 col0\" >Senegal</td>\n",
       "                        <td id=\"T_aafcac96_04f4_11ec_9a27_7824afa019d0row2_col1\" class=\"data row2 col1\" >29.200000</td>\n",
       "            </tr>\n",
       "    </tbody></table>"
      ],
      "text/plain": [
       "<pandas.io.formats.style.Styler at 0xcd324c0>"
      ]
     },
     "metadata": {},
     "output_type": "display_data"
    },
    {
     "data": {
      "text/html": [
       "<style  type=\"text/css\" >\n",
       "</style><table id=\"T_aafd21c8_04f4_11ec_b783_7824afa019d0\" style='display:inline'><caption>Španska Liga</caption><thead>    <tr>        <th class=\"blank level0\" ></th>        <th class=\"col_heading level0 col0\" >Države</th>        <th class=\"col_heading level0 col1\" >Vrednost</th>    </tr></thead><tbody>\n",
       "                <tr>\n",
       "                        <th id=\"T_aafd21c8_04f4_11ec_b783_7824afa019d0level0_row0\" class=\"row_heading level0 row0\" >2</th>\n",
       "                        <td id=\"T_aafd21c8_04f4_11ec_b783_7824afa019d0row0_col0\" class=\"data row0 col0\" >Austria</td>\n",
       "                        <td id=\"T_aafd21c8_04f4_11ec_b783_7824afa019d0row0_col1\" class=\"data row0 col1\" >55.000000</td>\n",
       "            </tr>\n",
       "            <tr>\n",
       "                        <th id=\"T_aafd21c8_04f4_11ec_b783_7824afa019d0level0_row1\" class=\"row_heading level0 row1\" >11</th>\n",
       "                        <td id=\"T_aafd21c8_04f4_11ec_b783_7824afa019d0row1_col0\" class=\"data row1 col0\" >Germany</td>\n",
       "                        <td id=\"T_aafd21c8_04f4_11ec_b783_7824afa019d0row1_col1\" class=\"data row1 col1\" >50.000000</td>\n",
       "            </tr>\n",
       "            <tr>\n",
       "                        <th id=\"T_aafd21c8_04f4_11ec_b783_7824afa019d0level0_row2\" class=\"row_heading level0 row2\" >3</th>\n",
       "                        <td id=\"T_aafd21c8_04f4_11ec_b783_7824afa019d0row2_col0\" class=\"data row2 col0\" >Belgium</td>\n",
       "                        <td id=\"T_aafd21c8_04f4_11ec_b783_7824afa019d0row2_col1\" class=\"data row2 col1\" >31.000000</td>\n",
       "            </tr>\n",
       "    </tbody></table>"
      ],
      "text/plain": [
       "<pandas.io.formats.style.Styler at 0xcd3c3e8>"
      ]
     },
     "metadata": {},
     "output_type": "display_data"
    },
    {
     "data": {
      "text/html": [
       "<style  type=\"text/css\" >\n",
       "</style><table id=\"T_aafd6fe9_04f4_11ec_b116_7824afa019d0\" style='display:inline'><caption>Nemška Liga</caption><thead>    <tr>        <th class=\"blank level0\" ></th>        <th class=\"col_heading level0 col0\" >Države</th>        <th class=\"col_heading level0 col1\" >Vrednost</th>    </tr></thead><tbody>\n",
       "                <tr>\n",
       "                        <th id=\"T_aafd6fe9_04f4_11ec_b116_7824afa019d0level0_row0\" class=\"row_heading level0 row0\" >15</th>\n",
       "                        <td id=\"T_aafd6fe9_04f4_11ec_b116_7824afa019d0row0_col0\" class=\"data row0 col0\" >Mali</td>\n",
       "                        <td id=\"T_aafd6fe9_04f4_11ec_b116_7824afa019d0row0_col1\" class=\"data row0 col1\" >19.000000</td>\n",
       "            </tr>\n",
       "            <tr>\n",
       "                        <th id=\"T_aafd6fe9_04f4_11ec_b116_7824afa019d0level0_row1\" class=\"row_heading level0 row1\" >20</th>\n",
       "                        <td id=\"T_aafd6fe9_04f4_11ec_b116_7824afa019d0row1_col0\" class=\"data row1 col0\" >Portugal</td>\n",
       "                        <td id=\"T_aafd6fe9_04f4_11ec_b116_7824afa019d0row1_col1\" class=\"data row1 col1\" >18.200000</td>\n",
       "            </tr>\n",
       "            <tr>\n",
       "                        <th id=\"T_aafd6fe9_04f4_11ec_b116_7824afa019d0level0_row2\" class=\"row_heading level0 row2\" >5</th>\n",
       "                        <td id=\"T_aafd6fe9_04f4_11ec_b116_7824afa019d0row2_col0\" class=\"data row2 col0\" >Colombia</td>\n",
       "                        <td id=\"T_aafd6fe9_04f4_11ec_b116_7824afa019d0row2_col1\" class=\"data row2 col1\" >17.000000</td>\n",
       "            </tr>\n",
       "    </tbody></table>"
      ],
      "text/plain": [
       "<pandas.io.formats.style.Styler at 0xc9a0f10>"
      ]
     },
     "metadata": {},
     "output_type": "display_data"
    }
   ],
   "source": [
    "igralci_drzave_20 = igralci.groupby('Drzavljanstvo').size().sort_values(ascending=False)[:27]\n",
    "igralci_GB1 = igralci[(igralci.Liga == 'GB1') & (igralci.Drzavljanstvo.isin(igralci_drzave_20.index))]\n",
    "igralci_ES1 = igralci[(igralci.Liga == 'ES1') & (igralci.Drzavljanstvo.isin(igralci_drzave_20.index))]\n",
    "igralci_L1 = igralci[(igralci.Liga == 'L1') & (igralci.Drzavljanstvo.isin(igralci_drzave_20.index))]\n",
    "igralci_IT1 = igralci[(igralci.Liga == 'IT1') & (igralci.Drzavljanstvo.isin(igralci_drzave_20.index))]\n",
    "igralci_FR1 = igralci[(igralci.Liga == 'FR1') & (igralci.Drzavljanstvo.isin(igralci_drzave_20.index))]\n",
    "df1 = povprecna_vr_po_drzavljanstvu(igralci_GB1).sort_values(by = 'Vrednost', ascending=False).head(3)\n",
    "df2 = povprecna_vr_po_drzavljanstvu(igralci_ES1).sort_values(by = 'Vrednost', ascending=False).head(3)\n",
    "df3 = povprecna_vr_po_drzavljanstvu(igralci_L1).sort_values(by = 'Vrednost', ascending=False).head(3)\n",
    "display(df1.style.set_table_attributes(\"style='display:inline'\").set_caption('Angleška Liga'))\n",
    "display(df2.style.set_table_attributes(\"style='display:inline'\").set_caption('Španska Liga'))\n",
    "display(df3.style.set_table_attributes(\"style='display:inline'\").set_caption('Nemška Liga'))"
   ]
  },
  {
   "cell_type": "code",
   "execution_count": 88,
   "metadata": {},
   "outputs": [
    {
     "data": {
      "text/html": [
       "<style  type=\"text/css\" >\n",
       "</style><table id=\"T_ac1a55c5_04f4_11ec_92ac_7824afa019d0\" style='display:inline'><caption>Italijanska Liga</caption><thead>    <tr>        <th class=\"blank level0\" ></th>        <th class=\"col_heading level0 col0\" >Države</th>        <th class=\"col_heading level0 col1\" >Vrednost</th>    </tr></thead><tbody>\n",
       "                <tr>\n",
       "                        <th id=\"T_ac1a55c5_04f4_11ec_92ac_7824afa019d0level0_row0\" class=\"row_heading level0 row0\" >9</th>\n",
       "                        <td id=\"T_ac1a55c5_04f4_11ec_92ac_7824afa019d0row0_col0\" class=\"data row0 col0\" >England</td>\n",
       "                        <td id=\"T_ac1a55c5_04f4_11ec_92ac_7824afa019d0row0_col1\" class=\"data row0 col1\" >16.780000</td>\n",
       "            </tr>\n",
       "            <tr>\n",
       "                        <th id=\"T_ac1a55c5_04f4_11ec_92ac_7824afa019d0level0_row1\" class=\"row_heading level0 row1\" >19</th>\n",
       "                        <td id=\"T_ac1a55c5_04f4_11ec_92ac_7824afa019d0row1_col0\" class=\"data row1 col0\" >Portugal</td>\n",
       "                        <td id=\"T_ac1a55c5_04f4_11ec_92ac_7824afa019d0row1_col1\" class=\"data row1 col1\" >15.310000</td>\n",
       "            </tr>\n",
       "            <tr>\n",
       "                        <th id=\"T_ac1a55c5_04f4_11ec_92ac_7824afa019d0level0_row2\" class=\"row_heading level0 row2\" >0</th>\n",
       "                        <td id=\"T_ac1a55c5_04f4_11ec_92ac_7824afa019d0row2_col0\" class=\"data row2 col0\" >Algeria</td>\n",
       "                        <td id=\"T_ac1a55c5_04f4_11ec_92ac_7824afa019d0row2_col1\" class=\"data row2 col1\" >13.620000</td>\n",
       "            </tr>\n",
       "    </tbody></table>"
      ],
      "text/plain": [
       "<pandas.io.formats.style.Styler at 0xcd85ac0>"
      ]
     },
     "metadata": {},
     "output_type": "display_data"
    },
    {
     "data": {
      "text/html": [
       "<style  type=\"text/css\" >\n",
       "</style><table id=\"T_ac1acaf7_04f4_11ec_a3e8_7824afa019d0\" style='display:inline'><caption>Francoska Liga</caption><thead>    <tr>        <th class=\"blank level0\" ></th>        <th class=\"col_heading level0 col0\" >Države</th>        <th class=\"col_heading level0 col1\" >Vrednost</th>    </tr></thead><tbody>\n",
       "                <tr>\n",
       "                        <th id=\"T_ac1acaf7_04f4_11ec_a3e8_7824afa019d0level0_row0\" class=\"row_heading level0 row0\" >1</th>\n",
       "                        <td id=\"T_ac1acaf7_04f4_11ec_a3e8_7824afa019d0row0_col0\" class=\"data row0 col0\" >Argentina</td>\n",
       "                        <td id=\"T_ac1acaf7_04f4_11ec_a3e8_7824afa019d0row0_col1\" class=\"data row0 col1\" >27.140000</td>\n",
       "            </tr>\n",
       "            <tr>\n",
       "                        <th id=\"T_ac1acaf7_04f4_11ec_a3e8_7824afa019d0level0_row1\" class=\"row_heading level0 row1\" >8</th>\n",
       "                        <td id=\"T_ac1acaf7_04f4_11ec_a3e8_7824afa019d0row1_col0\" class=\"data row1 col0\" >Denmark</td>\n",
       "                        <td id=\"T_ac1acaf7_04f4_11ec_a3e8_7824afa019d0row1_col1\" class=\"data row1 col1\" >22.000000</td>\n",
       "            </tr>\n",
       "            <tr>\n",
       "                        <th id=\"T_ac1acaf7_04f4_11ec_a3e8_7824afa019d0level0_row2\" class=\"row_heading level0 row2\" >14</th>\n",
       "                        <td id=\"T_ac1acaf7_04f4_11ec_a3e8_7824afa019d0row2_col0\" class=\"data row2 col0\" >Italy</td>\n",
       "                        <td id=\"T_ac1acaf7_04f4_11ec_a3e8_7824afa019d0row2_col1\" class=\"data row2 col1\" >16.280000</td>\n",
       "            </tr>\n",
       "    </tbody></table>"
      ],
      "text/plain": [
       "<pandas.io.formats.style.Styler at 0xcd01310>"
      ]
     },
     "metadata": {},
     "output_type": "display_data"
    }
   ],
   "source": [
    "df4 = povprecna_vr_po_drzavljanstvu(igralci_IT1).sort_values(by = 'Vrednost', ascending=False).head(3).round(2)\n",
    "df5 = povprecna_vr_po_drzavljanstvu(igralci_FR1).sort_values(by = 'Vrednost', ascending=False).head(3).round(2)\n",
    "display(df4.style.set_table_attributes(\"style='display:inline'\").set_caption('Italijanska Liga'))\n",
    "display(df5.style.set_table_attributes(\"style='display:inline'\").set_caption('Francoska Liga'))"
   ]
  },
  {
   "cell_type": "markdown",
   "metadata": {},
   "source": [
    "Opazimo, da tudi v posameznih ligah Brazilci niso povprečno najdražji, torej je prva hipoteza povsem odvržena."
   ]
  },
  {
   "cell_type": "markdown",
   "metadata": {},
   "source": [
    "---\n",
    "## &nbsp; &nbsp; Hipoteza 2:\n",
    "_LaLiga (ES1) ima povprečno najnižje igralce_"
   ]
  },
  {
   "cell_type": "code",
   "execution_count": 89,
   "metadata": {},
   "outputs": [
    {
     "data": {
      "text/plain": [
       "Liga\n",
       "ES1    181.09\n",
       "FR1    181.92\n",
       "GB1    182.84\n",
       "IT1    183.97\n",
       "L1     184.02\n",
       "Name: Visina, dtype: float64"
      ]
     },
     "execution_count": 89,
     "metadata": {},
     "output_type": "execute_result"
    }
   ],
   "source": [
    "igralci.groupby('Liga').Visina.mean().round(2)"
   ]
  },
  {
   "cell_type": "code",
   "execution_count": 90,
   "metadata": {},
   "outputs": [
    {
     "data": {
      "image/png": "[encoded data removed]",
      "text/plain": [
       "<Figure size 432x288 with 1 Axes>"
      ]
     },
     "metadata": {
      "needs_background": "light"
     },
     "output_type": "display_data"
    }
   ],
   "source": [
    "igralci.groupby('Liga').Visina.mean().plot.bar(ylim=(170,185), title = 'Povprečna višina vsake lige');"
   ]
  },
  {
   "cell_type": "markdown",
   "metadata": {},
   "source": [
    "Pričakovano je, zaradi velikega deleža španskih igralcev v LaLaligi, ta hipoteza potrjena. Presenetljivo pa je, da kljub temu da je Serie A znana po visokih, fizičnih, obrambnih igralcih, povprečna višina v Bundesligi nekoliko višja."
   ]
  },
  {
   "cell_type": "markdown",
   "metadata": {},
   "source": [
    "---\n",
    "## &nbsp; &nbsp; Hipoteza 3:\n",
    "_Serie A (IT1) ima povprečno najstarejše igralce_"
   ]
  },
  {
   "cell_type": "code",
   "execution_count": 91,
   "metadata": {},
   "outputs": [
    {
     "data": {
      "text/plain": [
       "Liga\n",
       "FR1    24.55\n",
       "L1     24.78\n",
       "IT1    25.87\n",
       "GB1    26.03\n",
       "ES1    26.87\n",
       "Name: Starost, dtype: float64"
      ]
     },
     "execution_count": 91,
     "metadata": {},
     "output_type": "execute_result"
    }
   ],
   "source": [
    "starost_igralcev = igralci.groupby('Liga').Starost.mean().sort_values()\n",
    "starost_igralcev.round(2)"
   ]
  },
  {
   "cell_type": "code",
   "execution_count": 92,
   "metadata": {},
   "outputs": [
    {
     "data": {
      "image/png": "[encoded data removed]",
      "text/plain": [
       "<Figure size 432x288 with 1 Axes>"
      ]
     },
     "metadata": {
      "needs_background": "light"
     },
     "output_type": "display_data"
    }
   ],
   "source": [
    "starost_igralcev.plot.bar(ylim=(24,27), title = 'Povprečna starost vsake lige');"
   ]
  },
  {
   "cell_type": "markdown",
   "metadata": {},
   "source": [
    "Hipoteza je odvržena, najstarejše igralce ima LaLiga. Serie A ni niti na drugem mestu, kajti ima Premier liga povprečno nekoliko starejše igralce. "
   ]
  },
  {
   "cell_type": "markdown",
   "metadata": {},
   "source": [
    "---\n",
    "## &nbsp; &nbsp; Hipoteza 4:\n",
    "_delež nogometašev najboljših petih evropskih lig, ki raje uporabljajo levo nogo, je večji kot delež ljudi, ki raje uporabljajo levo nogo v splošni populaciji_"
   ]
  },
  {
   "cell_type": "markdown",
   "metadata": {},
   "source": [
    "Delež ljudi, ki raje uporablja desno nogo v splošni populaciji je 81.0% ([wikipedija](https://en.wikipedia.org/wiki/Laterality#Human \"https://en.wikipedia.org/wiki/Laterality#Human\"), tabela po razdelkom Human), torej je teh ki raje uporablja levo nogo približno 19.0%."
   ]
  },
  {
   "cell_type": "code",
   "execution_count": 93,
   "metadata": {},
   "outputs": [
    {
     "data": {
      "text/plain": [
       "MocnejsaNoga\n",
       "both     0.042373\n",
       "left     0.252395\n",
       "right    0.705232\n",
       "dtype: float64"
      ]
     },
     "execution_count": 93,
     "metadata": {},
     "output_type": "execute_result"
    }
   ],
   "source": [
    "st_igralcev = igralci['MocnejsaNoga'].dropna().count()\n",
    "igralci.groupby('MocnejsaNoga').size() / st_igralcev"
   ]
  },
  {
   "cell_type": "code",
   "execution_count": 94,
   "metadata": {},
   "outputs": [
    {
     "data": {
      "image/png": "[encoded data removed]",
      "text/plain": [
       "<Figure size 432x288 with 1 Axes>"
      ]
     },
     "metadata": {},
     "output_type": "display_data"
    },
    {
     "data": {
      "image/png": "[encoded data removed]",
      "text/plain": [
       "<Figure size 432x288 with 1 Axes>"
      ]
     },
     "metadata": {},
     "output_type": "display_data"
    }
   ],
   "source": [
    "(igralci.groupby('MocnejsaNoga').size() / st_igralcev).plot.pie(ylabel = 'Močnejše noge nogogetašev',autopct='%1.1f%%',colors=['gray','orange','green']);\n",
    "pd.DataFrame({'Mocnejsa Noga Populacije':[0.19,0.81]},index=['left','right']).plot.pie(y='Mocnejsa Noga Populacije',autopct='%1.1f%%',colors=['orange','green']);"
   ]
  },
  {
   "cell_type": "markdown",
   "metadata": {},
   "source": [
    "Kot vidimo je med nogometaši in splošno populacijo velika razlika v perferenci nog."
   ]
  },
  {
   "cell_type": "markdown",
   "metadata": {},
   "source": [
    "---\n",
    "## &nbsp; &nbsp; Hipoteza 5:\n",
    "_Ne obstaja korelacija med igralčevo višino in njegovo tržno vrednostjo_"
   ]
  },
  {
   "cell_type": "markdown",
   "metadata": {},
   "source": [
    "Korelacijo najlažje preverimo s korelacijskim grafom (ang. scatter plot)."
   ]
  },
  {
   "cell_type": "code",
   "execution_count": 95,
   "metadata": {},
   "outputs": [
    {
     "data": {
      "image/png": "[encoded data removed]",
      "text/plain": [
       "<Figure size 432x288 with 1 Axes>"
      ]
     },
     "metadata": {
      "needs_background": "light"
     },
     "output_type": "display_data"
    }
   ],
   "source": [
    "igralci.sort_values('TrznaVrednost').plot.scatter(x='Visina',y='TrznaVrednost',title = 'Razmerje med višino in tržno vrednostjo');"
   ]
  },
  {
   "cell_type": "markdown",
   "metadata": {},
   "source": [
    "Iz tega grafa ni razvidna očitna korelacija med višino in tržno vrednostjo igralca. Preverimo raje z grafom povprečnih tržnih vrednosti igralcev za vsako višino."
   ]
  },
  {
   "cell_type": "code",
   "execution_count": 96,
   "metadata": {},
   "outputs": [
    {
     "data": {
      "image/png": "[encoded data removed]",
      "text/plain": [
       "<Figure size 432x288 with 1 Axes>"
      ]
     },
     "metadata": {
      "needs_background": "light"
     },
     "output_type": "display_data"
    }
   ],
   "source": [
    "igralci.groupby('Visina').TrznaVrednost.mean().plot(title = 'Razmerje med višino in povprečno tržno vrednostjo',xlabel='Višina');"
   ]
  },
  {
   "cell_type": "code",
   "execution_count": 97,
   "metadata": {},
   "outputs": [
    {
     "data": {
      "text/html": [
       "<div>\n",
       "<style scoped>\n",
       "    .dataframe tbody tr th:only-of-type {\n",
       "        vertical-align: middle;\n",
       "    }\n",
       "\n",
       "    .dataframe tbody tr th {\n",
       "        vertical-align: top;\n",
       "    }\n",
       "\n",
       "    .dataframe thead th {\n",
       "        text-align: right;\n",
       "    }\n",
       "</style>\n",
       "<table border=\"1\" class=\"dataframe\">\n",
       "  <thead>\n",
       "    <tr style=\"text-align: right;\">\n",
       "      <th></th>\n",
       "      <th>Ime</th>\n",
       "      <th>TrznaVrednost</th>\n",
       "    </tr>\n",
       "  </thead>\n",
       "  <tbody>\n",
       "    <tr>\n",
       "      <th>225</th>\n",
       "      <td>Pablo Piatti</td>\n",
       "      <td>1.2</td>\n",
       "    </tr>\n",
       "    <tr>\n",
       "      <th>701</th>\n",
       "      <td>Lorenzo Insigne</td>\n",
       "      <td>48.0</td>\n",
       "    </tr>\n",
       "    <tr>\n",
       "      <th>759</th>\n",
       "      <td>Ryan Fraser</td>\n",
       "      <td>10.0</td>\n",
       "    </tr>\n",
       "    <tr>\n",
       "      <th>901</th>\n",
       "      <td>Joel Valencia</td>\n",
       "      <td>0.4</td>\n",
       "    </tr>\n",
       "    <tr>\n",
       "      <th>1096</th>\n",
       "      <td>Jimmy Cabot</td>\n",
       "      <td>2.0</td>\n",
       "    </tr>\n",
       "    <tr>\n",
       "      <th>2030</th>\n",
       "      <td>Rafik Guitane</td>\n",
       "      <td>2.5</td>\n",
       "    </tr>\n",
       "    <tr>\n",
       "      <th>2380</th>\n",
       "      <td>Tariq Lamptey</td>\n",
       "      <td>18.0</td>\n",
       "    </tr>\n",
       "  </tbody>\n",
       "</table>\n",
       "</div>"
      ],
      "text/plain": [
       "                  Ime  TrznaVrednost\n",
       "225      Pablo Piatti            1.2\n",
       "701   Lorenzo Insigne           48.0\n",
       "759       Ryan Fraser           10.0\n",
       "901     Joel Valencia            0.4\n",
       "1096      Jimmy Cabot            2.0\n",
       "2030    Rafik Guitane            2.5\n",
       "2380    Tariq Lamptey           18.0"
      ]
     },
     "metadata": {},
     "output_type": "display_data"
    },
    {
     "data": {
      "text/html": [
       "<div>\n",
       "<style scoped>\n",
       "    .dataframe tbody tr th:only-of-type {\n",
       "        vertical-align: middle;\n",
       "    }\n",
       "\n",
       "    .dataframe tbody tr th {\n",
       "        vertical-align: top;\n",
       "    }\n",
       "\n",
       "    .dataframe thead th {\n",
       "        text-align: right;\n",
       "    }\n",
       "</style>\n",
       "<table border=\"1\" class=\"dataframe\">\n",
       "  <thead>\n",
       "    <tr style=\"text-align: right;\">\n",
       "      <th></th>\n",
       "      <th>Ime</th>\n",
       "      <th>TrznaVrednost</th>\n",
       "    </tr>\n",
       "  </thead>\n",
       "  <tbody>\n",
       "    <tr>\n",
       "      <th>207</th>\n",
       "      <td>Fraser Forster</td>\n",
       "      <td>3.0</td>\n",
       "    </tr>\n",
       "    <tr>\n",
       "      <th>543</th>\n",
       "      <td>Thibaut Courtois</td>\n",
       "      <td>60.0</td>\n",
       "    </tr>\n",
       "    <tr>\n",
       "      <th>702</th>\n",
       "      <td>Dan Burn</td>\n",
       "      <td>5.0</td>\n",
       "    </tr>\n",
       "    <tr>\n",
       "      <th>1349</th>\n",
       "      <td>Vanja Milinković-Savić</td>\n",
       "      <td>0.8</td>\n",
       "    </tr>\n",
       "    <tr>\n",
       "      <th>1919</th>\n",
       "      <td>Sasa Kalajdzic</td>\n",
       "      <td>22.0</td>\n",
       "    </tr>\n",
       "    <tr>\n",
       "      <th>2256</th>\n",
       "      <td>Kjell Scherpen</td>\n",
       "      <td>2.8</td>\n",
       "    </tr>\n",
       "  </tbody>\n",
       "</table>\n",
       "</div>"
      ],
      "text/plain": [
       "                         Ime  TrznaVrednost\n",
       "207           Fraser Forster            3.0\n",
       "543         Thibaut Courtois           60.0\n",
       "702                 Dan Burn            5.0\n",
       "1349  Vanja Milinković-Savić            0.8\n",
       "1919          Sasa Kalajdzic           22.0\n",
       "2256          Kjell Scherpen            2.8"
      ]
     },
     "metadata": {},
     "output_type": "display_data"
    }
   ],
   "source": [
    "display(igralci[igralci.Visina < 165][['Ime','TrznaVrednost']])\n",
    "display(igralci[igralci.Visina >= 200][['Ime','TrznaVrednost']])"
   ]
  },
  {
   "cell_type": "markdown",
   "metadata": {},
   "source": [
    "Še vedno ne opazimo prave korelacije med višino in tržno vrednostjo. Do odstopanj prihaja le na koncih grafa, kjer so zelo nizki oziroma zelo visoki igralci. Toda to je najverjetneje posledica malega števila igralcev, ki so nižji od 165cm oziroma višji od 200cm."
   ]
  },
  {
   "cell_type": "markdown",
   "metadata": {},
   "source": [
    "---\n",
    "## &nbsp; &nbsp; Hipoteza 6\n",
    "_v vsaki ligi je največji delež igralcev državljanov tiste države, ki gosti ligo_"
   ]
  },
  {
   "cell_type": "markdown",
   "metadata": {},
   "source": [
    "Najprej napišimo funkcijo, ki bo za določeno ligo poiskala pet najbolj pogostih državljanstev igralcev v ligi."
   ]
  },
  {
   "cell_type": "code",
   "execution_count": 98,
   "metadata": {},
   "outputs": [],
   "source": [
    "def tri_drzavljanstsva(liga):\n",
    "    dict = {}\n",
    "    igralci_l = igralci[igralci.Liga == liga]\n",
    "    drzave = igralci_l.groupby('Drzavljanstvo').size().index\n",
    "    for drzava in drzave:\n",
    "        dict[drzava] = igralci[(igralci.Liga == liga) & (igralci.Drzavljanstvo == drzava)].ID.count()\n",
    "    return pd.DataFrame(dict,index=['Število Igralcev']).T.sort_values(by = 'Število Igralcev', ascending=False)[:5]\n",
    "            "
   ]
  },
  {
   "cell_type": "code",
   "execution_count": 99,
   "metadata": {},
   "outputs": [
    {
     "data": {
      "image/png": "[encoded data removed]",
      "text/plain": [
       "<Figure size 432x288 with 1 Axes>"
      ]
     },
     "metadata": {
      "needs_background": "light"
     },
     "output_type": "display_data"
    },
    {
     "data": {
      "image/png": "[encoded data removed]",
      "text/plain": [
       "<Figure size 432x288 with 1 Axes>"
      ]
     },
     "metadata": {
      "needs_background": "light"
     },
     "output_type": "display_data"
    }
   ],
   "source": [
    "tri_drzavljanstsva('GB1').plot.bar(title = 'Angleška liga');\n",
    "tri_drzavljanstsva('ES1').plot.bar(title = 'Španska liga');"
   ]
  },
  {
   "cell_type": "code",
   "execution_count": 100,
   "metadata": {},
   "outputs": [
    {
     "data": {
      "image/png": "[encoded data removed]",
      "text/plain": [
       "<Figure size 432x288 with 1 Axes>"
      ]
     },
     "metadata": {
      "needs_background": "light"
     },
     "output_type": "display_data"
    },
    {
     "data": {
      "image/png": "[encoded data removed]",
      "text/plain": [
       "<Figure size 432x288 with 1 Axes>"
      ]
     },
     "metadata": {
      "needs_background": "light"
     },
     "output_type": "display_data"
    }
   ],
   "source": [
    "tri_drzavljanstsva('L1').plot.bar(title = 'Nemška liga');\n",
    "tri_drzavljanstsva('IT1').plot.bar(title='Italijanska liga');"
   ]
  },
  {
   "cell_type": "code",
   "execution_count": 101,
   "metadata": {},
   "outputs": [
    {
     "data": {
      "image/png": "[encoded data removed]",
      "text/plain": [
       "<Figure size 432x288 with 1 Axes>"
      ]
     },
     "metadata": {
      "needs_background": "light"
     },
     "output_type": "display_data"
    }
   ],
   "source": [
    "tri_drzavljanstsva('FR1').plot.bar(title='Francoska liga');"
   ]
  },
  {
   "cell_type": "markdown",
   "metadata": {},
   "source": [
    "Zadnja hipoteza je potrjena, velika večina igralcev vsake lige prihaja iz države, ki gosti ligo."
   ]
  },
  {
   "cell_type": "markdown",
   "metadata": {},
   "source": [
    "<br/>\n",
    "<br/>"
   ]
  },
  {
   "cell_type": "markdown",
   "metadata": {},
   "source": [
    "# Zaključek"
   ]
  },
  {
   "cell_type": "markdown",
   "metadata": {},
   "source": [
    "Potrdil sem polovico delovnih hipotez (hipoteze 2, 4 in 6), kar me ni presenetilo, kajti bi lahko nanje odgovril vsak, ki nekoliko bolj podrobno spremlja evropski nogomet. Pravtako me ni presenetilo, da sem odvrgel hipotezo 1, kajti se vsako sezono tržne vrednosti igralcev zelo spreminjajo, brazilski nogometaši pa so bili blizu vrha povprečno najdražjih igralcev. Nekoliko me je presenetila analiza podatkov za hipotezo 3, kajti je bila italijanska liga nekoč znana po visokih, starejših, bolj izkušenih nogometaših, danes pa je med najboljšimi petimi ligami po starosti le na tretjem mestu. Hipoteza 5 je zaradi male količine robnih podatkov preveč dvoumna, da bi jo lahko potrdil ali odvrgel."
   ]
  },
  {
   "cell_type": "markdown",
   "metadata": {},
   "source": [
    "Zaradi hitrega spreminjanja stanj v evropskem nogometu, bi bilo zanimivo čez par let ponovno pognati python kodo in v jupyter notebooku analizirati enake podatke, ter jih primerjati z današnjimi."
   ]
  }
 ],
 "metadata": {
  "kernelspec": {
   "display_name": "Python 3",
   "language": "python",
   "name": "python3"
  },
  "language_info": {
   "codemirror_mode": {
    "name": "ipython",
    "version": 3
   },
   "file_extension": ".py",
   "mimetype": "text/x-python",
   "name": "python",
   "nbconvert_exporter": "python",
   "pygments_lexer": "ipython3",
   "version": "3.8.2"
  }
 },
 "nbformat": 4,
 "nbformat_minor": 4
}
