{
 "cells": [
  {
   "cell_type": "markdown",
   "metadata": {},
   "source": [
    "# Projektna naloga pri predmetu Programiranje 1\n",
    "_Matej Melanšek_"
   ]
  },
  {
   "cell_type": "code",
   "execution_count": 2,
   "metadata": {},
   "outputs": [],
   "source": [
    "import pandas as pd"
   ]
  },
  {
   "cell_type": "code",
   "execution_count": 5,
   "metadata": {},
   "outputs": [],
   "source": [
    "igralci = pd.read_csv('podatki.csv')"
   ]
  },
  {
   "cell_type": "markdown",
   "metadata": {},
   "source": [
    "Za vsakega izmed igralcev najboljših petih evropskih nogometnih lig (Premier Ligue - GB1, LaLiga - ES1, Bundesliga - L1, Serie A - IT1, Ligue 1 - FR1) sem zajel njihovo ime, tržno vrednost, starost, državljanstvo, močnejšo nogo in ligo v kateri igrajo.\n",
    "\n",
    "S temi podatki bom poskušal potrditi ali pa odvreči hipoteze:\n",
    "- najdražji igralci so Brazilci\n",
    "- LaLiga (ES1) ima povprečno najnižje igralce\n",
    "- Serie A (IT1) ima povprečno najstarejše igralce\n",
    "- delež nogometašev najboljših petih evropskih lig, ki so levičarji je večji kot delež levičarjev v splošni populaciji"
   ]
  },
  {
   "cell_type": "code",
   "execution_count": 67,
   "metadata": {},
   "outputs": [
    {
     "data": {
      "text/html": [
       "<div>\n",
       "<style scoped>\n",
       "    .dataframe tbody tr th:only-of-type {\n",
       "        vertical-align: middle;\n",
       "    }\n",
       "\n",
       "    .dataframe tbody tr th {\n",
       "        vertical-align: top;\n",
       "    }\n",
       "\n",
       "    .dataframe thead th {\n",
       "        text-align: right;\n",
       "    }\n",
       "</style>\n",
       "<table border=\"1\" class=\"dataframe\">\n",
       "  <thead>\n",
       "    <tr style=\"text-align: right;\">\n",
       "      <th></th>\n",
       "      <th>ID</th>\n",
       "      <th>Ime</th>\n",
       "      <th>TrznaVrednost</th>\n",
       "      <th>Starost</th>\n",
       "      <th>Visina</th>\n",
       "      <th>Drzavljanstvo</th>\n",
       "      <th>MocnejsaNoga</th>\n",
       "      <th>Liga</th>\n",
       "    </tr>\n",
       "  </thead>\n",
       "  <tbody>\n",
       "    <tr>\n",
       "      <th>0</th>\n",
       "      <td>2857</td>\n",
       "      <td>Eldin Jakupovic</td>\n",
       "      <td>0.30</td>\n",
       "      <td>36</td>\n",
       "      <td>191.0</td>\n",
       "      <td>Switzerland</td>\n",
       "      <td>right</td>\n",
       "      <td>GB1</td>\n",
       "    </tr>\n",
       "    <tr>\n",
       "      <th>1</th>\n",
       "      <td>3333</td>\n",
       "      <td>James Milner</td>\n",
       "      <td>3.00</td>\n",
       "      <td>35</td>\n",
       "      <td>175.0</td>\n",
       "      <td>England</td>\n",
       "      <td>right</td>\n",
       "      <td>GB1</td>\n",
       "    </tr>\n",
       "    <tr>\n",
       "      <th>2</th>\n",
       "      <td>3455</td>\n",
       "      <td>Zlatan Ibrahimovic</td>\n",
       "      <td>4.00</td>\n",
       "      <td>39</td>\n",
       "      <td>195.0</td>\n",
       "      <td>Sweden</td>\n",
       "      <td>both</td>\n",
       "      <td>IT1</td>\n",
       "    </tr>\n",
       "    <tr>\n",
       "      <th>3</th>\n",
       "      <td>5578</td>\n",
       "      <td>Nicolas Penneteau</td>\n",
       "      <td>0.20</td>\n",
       "      <td>40</td>\n",
       "      <td>185.0</td>\n",
       "      <td>France</td>\n",
       "      <td>left</td>\n",
       "      <td>FR1</td>\n",
       "    </tr>\n",
       "    <tr>\n",
       "      <th>4</th>\n",
       "      <td>6442</td>\n",
       "      <td>Antonio Rosati</td>\n",
       "      <td>0.10</td>\n",
       "      <td>38</td>\n",
       "      <td>195.0</td>\n",
       "      <td>Italy</td>\n",
       "      <td>right</td>\n",
       "      <td>IT1</td>\n",
       "    </tr>\n",
       "    <tr>\n",
       "      <th>...</th>\n",
       "      <td>...</td>\n",
       "      <td>...</td>\n",
       "      <td>...</td>\n",
       "      <td>...</td>\n",
       "      <td>...</td>\n",
       "      <td>...</td>\n",
       "      <td>...</td>\n",
       "      <td>...</td>\n",
       "    </tr>\n",
       "    <tr>\n",
       "      <th>2763</th>\n",
       "      <td>859396</td>\n",
       "      <td>Metinho</td>\n",
       "      <td>5.00</td>\n",
       "      <td>18</td>\n",
       "      <td>178.0</td>\n",
       "      <td>Brazil</td>\n",
       "      <td>right</td>\n",
       "      <td>FR1</td>\n",
       "    </tr>\n",
       "    <tr>\n",
       "      <th>2764</th>\n",
       "      <td>876034</td>\n",
       "      <td>Yanis Guermouche</td>\n",
       "      <td>0.15</td>\n",
       "      <td>20</td>\n",
       "      <td>192.0</td>\n",
       "      <td>France</td>\n",
       "      <td>NaN</td>\n",
       "      <td>FR1</td>\n",
       "    </tr>\n",
       "    <tr>\n",
       "      <th>2765</th>\n",
       "      <td>880169</td>\n",
       "      <td>Nabil Ouennas</td>\n",
       "      <td>0.10</td>\n",
       "      <td>18</td>\n",
       "      <td>195.0</td>\n",
       "      <td>Algeria</td>\n",
       "      <td>NaN</td>\n",
       "      <td>FR1</td>\n",
       "    </tr>\n",
       "    <tr>\n",
       "      <th>2766</th>\n",
       "      <td>880330</td>\n",
       "      <td>Moïse Sahi Dion</td>\n",
       "      <td>0.80</td>\n",
       "      <td>19</td>\n",
       "      <td>175.0</td>\n",
       "      <td>Cote d'Ivoire</td>\n",
       "      <td>left</td>\n",
       "      <td>FR1</td>\n",
       "    </tr>\n",
       "    <tr>\n",
       "      <th>2767</th>\n",
       "      <td>905408</td>\n",
       "      <td>Mamadou Camara</td>\n",
       "      <td>0.15</td>\n",
       "      <td>18</td>\n",
       "      <td>185.0</td>\n",
       "      <td>Senegal</td>\n",
       "      <td>left</td>\n",
       "      <td>FR1</td>\n",
       "    </tr>\n",
       "  </tbody>\n",
       "</table>\n",
       "<p>2768 rows × 8 columns</p>\n",
       "</div>"
      ],
      "text/plain": [
       "          ID                 Ime  TrznaVrednost  Starost  Visina  \\\n",
       "0       2857     Eldin Jakupovic           0.30       36   191.0   \n",
       "1       3333        James Milner           3.00       35   175.0   \n",
       "2       3455  Zlatan Ibrahimovic           4.00       39   195.0   \n",
       "3       5578   Nicolas Penneteau           0.20       40   185.0   \n",
       "4       6442      Antonio Rosati           0.10       38   195.0   \n",
       "...      ...                 ...            ...      ...     ...   \n",
       "2763  859396             Metinho           5.00       18   178.0   \n",
       "2764  876034    Yanis Guermouche           0.15       20   192.0   \n",
       "2765  880169       Nabil Ouennas           0.10       18   195.0   \n",
       "2766  880330     Moïse Sahi Dion           0.80       19   175.0   \n",
       "2767  905408      Mamadou Camara           0.15       18   185.0   \n",
       "\n",
       "      Drzavljanstvo MocnejsaNoga Liga  \n",
       "0       Switzerland        right  GB1  \n",
       "1           England        right  GB1  \n",
       "2            Sweden         both  IT1  \n",
       "3            France         left  FR1  \n",
       "4             Italy        right  IT1  \n",
       "...             ...          ...  ...  \n",
       "2763         Brazil        right  FR1  \n",
       "2764         France          NaN  FR1  \n",
       "2765        Algeria          NaN  FR1  \n",
       "2766  Cote d'Ivoire         left  FR1  \n",
       "2767        Senegal         left  FR1  \n",
       "\n",
       "[2768 rows x 8 columns]"
      ]
     },
     "execution_count": 67,
     "metadata": {},
     "output_type": "execute_result"
    }
   ],
   "source": [
    "igralci"
   ]
  },
  {
   "cell_type": "markdown",
   "metadata": {},
   "source": [
    "---\n",
    "## Hipozeta 1:\n",
    "Najdražji igralci so Brazilci"
   ]
  },
  {
   "cell_type": "code",
   "execution_count": 54,
   "metadata": {},
   "outputs": [
    {
     "data": {
      "text/plain": [
       "Drzavljanstvo\n",
       "Albania       13\n",
       "Algeria       24\n",
       "Angola         3\n",
       "Argentina     66\n",
       "Armenia        4\n",
       "              ..\n",
       "Uzbekistan     1\n",
       "Venezuela      5\n",
       "Wales         13\n",
       "Zambia         2\n",
       "Zimbabwe       3\n",
       "Length: 108, dtype: int64"
      ]
     },
     "execution_count": 54,
     "metadata": {},
     "output_type": "execute_result"
    }
   ],
   "source": [
    "igralci.groupby('Drzavljanstvo').size()"
   ]
  },
  {
   "cell_type": "markdown",
   "metadata": {},
   "source": [
    "---\n",
    "## Hipoteza 2:\n",
    "LaLiga (ES1) ima povprečno najnižje igralce"
   ]
  },
  {
   "cell_type": "code",
   "execution_count": 23,
   "metadata": {},
   "outputs": [
    {
     "data": {
      "text/plain": [
       "Liga\n",
       "ES1    181.087891\n",
       "FR1    181.922535\n",
       "GB1    182.843066\n",
       "IT1    183.969492\n",
       "L1     184.009653\n",
       "Name: Visina, dtype: float64"
      ]
     },
     "execution_count": 23,
     "metadata": {},
     "output_type": "execute_result"
    }
   ],
   "source": [
    "igralci.groupby('Liga').Visina.mean()"
   ]
  },
  {
   "cell_type": "code",
   "execution_count": 27,
   "metadata": {},
   "outputs": [
    {
     "data": {
      "text/plain": [
       "<AxesSubplot:xlabel='Liga'>"
      ]
     },
     "execution_count": 27,
     "metadata": {},
     "output_type": "execute_result"
    },
    {
     "data": {
      "image/png": "[encoded data removed]",
      "text/plain": [
       "<Figure size 432x288 with 1 Axes>"
      ]
     },
     "metadata": {
      "needs_background": "light"
     },
     "output_type": "display_data"
    }
   ],
   "source": [
    "igralci.groupby('Liga').Visina.mean().plot.bar(ylim=(170,185))"
   ]
  },
  {
   "cell_type": "markdown",
   "metadata": {},
   "source": [
    "Pričakovano je, zaradi velikega deleža španskih igralcev v LaLaligi, ta hipoteza potrjena. Presenetljivo pa je, da kljub temu da je Serie A znana po visokih, fizičnih, obrambnih igralcih, povprečna višina v Bundesligi nekoliko višja."
   ]
  },
  {
   "cell_type": "markdown",
   "metadata": {},
   "source": [
    "---\n",
    "## Hipozeta 3:\n",
    "Serie A (IT1) ima povprečno najstarejše igralce"
   ]
  },
  {
   "cell_type": "code",
   "execution_count": 40,
   "metadata": {},
   "outputs": [
    {
     "data": {
      "text/plain": [
       "Liga\n",
       "ES1    26.877193\n",
       "FR1    24.554007\n",
       "GB1    26.034420\n",
       "IT1    25.869421\n",
       "L1     24.791985\n",
       "Name: Starost, dtype: float64"
      ]
     },
     "execution_count": 40,
     "metadata": {},
     "output_type": "execute_result"
    }
   ],
   "source": [
    "igralci.groupby('Liga').Starost.mean()"
   ]
  },
  {
   "cell_type": "code",
   "execution_count": 41,
   "metadata": {},
   "outputs": [
    {
     "data": {
      "text/plain": [
       "<AxesSubplot:xlabel='Liga'>"
      ]
     },
     "execution_count": 41,
     "metadata": {},
     "output_type": "execute_result"
    },
    {
     "data": {
      "image/png": "[encoded data removed]",
      "text/plain": [
       "<Figure size 432x288 with 1 Axes>"
      ]
     },
     "metadata": {
      "needs_background": "light"
     },
     "output_type": "display_data"
    }
   ],
   "source": [
    "igralci.groupby('Liga').Starost.mean().plot.bar(ylim=(24,27))"
   ]
  },
  {
   "cell_type": "markdown",
   "metadata": {},
   "source": [
    "Hipoteza je odvržena, najstarejše igralce ima LiLiga. Serie A ni niti na drugem mestu, kajti ima Premier liga povprečno nekoliko starejše igralce. "
   ]
  },
  {
   "cell_type": "markdown",
   "metadata": {},
   "source": [
    "---\n",
    "## Hipoteza 4:\n",
    "Delež nogometašev najboljših petih evropskih lig, ki so levičarji je večji kot delež levičarjev v splošni populaciji"
   ]
  },
  {
   "cell_type": "markdown",
   "metadata": {},
   "source": [
    "Delež ljudi, ki raje uporablja desno nogo v splošni populaciji je 81.0% ([wikipedija](https://en.wikipedia.org/wiki/Laterality#Human \"wikipedija\"), tabela po razdelkom Human)"
   ]
  },
  {
   "cell_type": "code",
   "execution_count": 61,
   "metadata": {},
   "outputs": [
    {
     "data": {
      "text/plain": [
       "MocnejsaNoga\n",
       "both     0.042404\n",
       "left     0.251844\n",
       "right    0.705752\n",
       "dtype: float64"
      ]
     },
     "execution_count": 61,
     "metadata": {},
     "output_type": "execute_result"
    }
   ],
   "source": [
    "st_igralcev = igralci['MocnejsaNoga'].dropna().count()\n",
    "igralci.groupby('MocnejsaNoga').size() / st_igralcev"
   ]
  },
  {
   "cell_type": "code",
   "execution_count": 66,
   "metadata": {},
   "outputs": [
    {
     "data": {
      "text/plain": [
       "<AxesSubplot:ylabel='Močnejše noge nogogetašev'>"
      ]
     },
     "execution_count": 66,
     "metadata": {},
     "output_type": "execute_result"
    },
    {
     "data": {
      "image/png": "[encoded data removed]",
      "text/plain": [
       "<Figure size 432x288 with 1 Axes>"
      ]
     },
     "metadata": {},
     "output_type": "display_data"
    }
   ],
   "source": [
    "(igralci.groupby('MocnejsaNoga').size() / st_igralcev).plot.pie(ylabel = 'Močnejše noge nogogetašev')"
   ]
  },
  {
   "cell_type": "code",
   "execution_count": null,
   "metadata": {},
   "outputs": [],
   "source": []
  }
 ],
 "metadata": {
  "kernelspec": {
   "display_name": "Python 3",
   "language": "python",
   "name": "python3"
  },
  "language_info": {
   "codemirror_mode": {
    "name": "ipython",
    "version": 3
   },
   "file_extension": ".py",
   "mimetype": "text/x-python",
   "name": "python",
   "nbconvert_exporter": "python",
   "pygments_lexer": "ipython3",
   "version": "3.8.2"
  }
 },
 "nbformat": 4,
 "nbformat_minor": 4
}
